{
 "cells": [
  {
   "cell_type": "code",
   "execution_count": 1302,
   "id": "557b7398",
   "metadata": {},
   "outputs": [],
   "source": [
    "import pandas as pd\n",
    "import numpy as np\n",
    "import matplotlib.pyplot as plt\n",
    "import seaborn as sns"
   ]
  },
  {
   "cell_type": "code",
   "execution_count": 1303,
   "id": "31a7bbc4",
   "metadata": {
    "scrolled": true
   },
   "outputs": [],
   "source": [
    "df_train = pd.read_csv(r\"C:\\Kaggle\\house-prices-advanced-regression-techniques\\train.csv\")\n",
    "df_test = pd.read_csv(r\"C:\\Kaggle\\house-prices-advanced-regression-techniques\\test.csv\")"
   ]
  },
  {
   "cell_type": "code",
   "execution_count": 1304,
   "id": "7a239f4a",
   "metadata": {
    "scrolled": true
   },
   "outputs": [],
   "source": [
    "df = pd.concat([df_train, df_test]).reset_index(drop=True).copy()"
   ]
  },
  {
   "cell_type": "code",
   "execution_count": 1305,
   "id": "1b99334e",
   "metadata": {},
   "outputs": [
    {
     "data": {
      "text/html": [
       "<div>\n",
       "<style scoped>\n",
       "    .dataframe tbody tr th:only-of-type {\n",
       "        vertical-align: middle;\n",
       "    }\n",
       "\n",
       "    .dataframe tbody tr th {\n",
       "        vertical-align: top;\n",
       "    }\n",
       "\n",
       "    .dataframe thead th {\n",
       "        text-align: right;\n",
       "    }\n",
       "</style>\n",
       "<table border=\"1\" class=\"dataframe\">\n",
       "  <thead>\n",
       "    <tr style=\"text-align: right;\">\n",
       "      <th></th>\n",
       "      <th>Id</th>\n",
       "      <th>MSSubClass</th>\n",
       "      <th>MSZoning</th>\n",
       "      <th>LotFrontage</th>\n",
       "      <th>LotArea</th>\n",
       "      <th>Street</th>\n",
       "      <th>Alley</th>\n",
       "      <th>LotShape</th>\n",
       "      <th>LandContour</th>\n",
       "      <th>Utilities</th>\n",
       "      <th>...</th>\n",
       "      <th>PoolArea</th>\n",
       "      <th>PoolQC</th>\n",
       "      <th>Fence</th>\n",
       "      <th>MiscFeature</th>\n",
       "      <th>MiscVal</th>\n",
       "      <th>MoSold</th>\n",
       "      <th>YrSold</th>\n",
       "      <th>SaleType</th>\n",
       "      <th>SaleCondition</th>\n",
       "      <th>SalePrice</th>\n",
       "    </tr>\n",
       "  </thead>\n",
       "  <tbody>\n",
       "    <tr>\n",
       "      <th>0</th>\n",
       "      <td>1</td>\n",
       "      <td>60</td>\n",
       "      <td>RL</td>\n",
       "      <td>65.0</td>\n",
       "      <td>8450</td>\n",
       "      <td>Pave</td>\n",
       "      <td>NaN</td>\n",
       "      <td>Reg</td>\n",
       "      <td>Lvl</td>\n",
       "      <td>AllPub</td>\n",
       "      <td>...</td>\n",
       "      <td>0</td>\n",
       "      <td>NaN</td>\n",
       "      <td>NaN</td>\n",
       "      <td>NaN</td>\n",
       "      <td>0</td>\n",
       "      <td>2</td>\n",
       "      <td>2008</td>\n",
       "      <td>WD</td>\n",
       "      <td>Normal</td>\n",
       "      <td>208500.0</td>\n",
       "    </tr>\n",
       "    <tr>\n",
       "      <th>1</th>\n",
       "      <td>2</td>\n",
       "      <td>20</td>\n",
       "      <td>RL</td>\n",
       "      <td>80.0</td>\n",
       "      <td>9600</td>\n",
       "      <td>Pave</td>\n",
       "      <td>NaN</td>\n",
       "      <td>Reg</td>\n",
       "      <td>Lvl</td>\n",
       "      <td>AllPub</td>\n",
       "      <td>...</td>\n",
       "      <td>0</td>\n",
       "      <td>NaN</td>\n",
       "      <td>NaN</td>\n",
       "      <td>NaN</td>\n",
       "      <td>0</td>\n",
       "      <td>5</td>\n",
       "      <td>2007</td>\n",
       "      <td>WD</td>\n",
       "      <td>Normal</td>\n",
       "      <td>181500.0</td>\n",
       "    </tr>\n",
       "    <tr>\n",
       "      <th>2</th>\n",
       "      <td>3</td>\n",
       "      <td>60</td>\n",
       "      <td>RL</td>\n",
       "      <td>68.0</td>\n",
       "      <td>11250</td>\n",
       "      <td>Pave</td>\n",
       "      <td>NaN</td>\n",
       "      <td>IR1</td>\n",
       "      <td>Lvl</td>\n",
       "      <td>AllPub</td>\n",
       "      <td>...</td>\n",
       "      <td>0</td>\n",
       "      <td>NaN</td>\n",
       "      <td>NaN</td>\n",
       "      <td>NaN</td>\n",
       "      <td>0</td>\n",
       "      <td>9</td>\n",
       "      <td>2008</td>\n",
       "      <td>WD</td>\n",
       "      <td>Normal</td>\n",
       "      <td>223500.0</td>\n",
       "    </tr>\n",
       "    <tr>\n",
       "      <th>3</th>\n",
       "      <td>4</td>\n",
       "      <td>70</td>\n",
       "      <td>RL</td>\n",
       "      <td>60.0</td>\n",
       "      <td>9550</td>\n",
       "      <td>Pave</td>\n",
       "      <td>NaN</td>\n",
       "      <td>IR1</td>\n",
       "      <td>Lvl</td>\n",
       "      <td>AllPub</td>\n",
       "      <td>...</td>\n",
       "      <td>0</td>\n",
       "      <td>NaN</td>\n",
       "      <td>NaN</td>\n",
       "      <td>NaN</td>\n",
       "      <td>0</td>\n",
       "      <td>2</td>\n",
       "      <td>2006</td>\n",
       "      <td>WD</td>\n",
       "      <td>Abnorml</td>\n",
       "      <td>140000.0</td>\n",
       "    </tr>\n",
       "    <tr>\n",
       "      <th>4</th>\n",
       "      <td>5</td>\n",
       "      <td>60</td>\n",
       "      <td>RL</td>\n",
       "      <td>84.0</td>\n",
       "      <td>14260</td>\n",
       "      <td>Pave</td>\n",
       "      <td>NaN</td>\n",
       "      <td>IR1</td>\n",
       "      <td>Lvl</td>\n",
       "      <td>AllPub</td>\n",
       "      <td>...</td>\n",
       "      <td>0</td>\n",
       "      <td>NaN</td>\n",
       "      <td>NaN</td>\n",
       "      <td>NaN</td>\n",
       "      <td>0</td>\n",
       "      <td>12</td>\n",
       "      <td>2008</td>\n",
       "      <td>WD</td>\n",
       "      <td>Normal</td>\n",
       "      <td>250000.0</td>\n",
       "    </tr>\n",
       "    <tr>\n",
       "      <th>...</th>\n",
       "      <td>...</td>\n",
       "      <td>...</td>\n",
       "      <td>...</td>\n",
       "      <td>...</td>\n",
       "      <td>...</td>\n",
       "      <td>...</td>\n",
       "      <td>...</td>\n",
       "      <td>...</td>\n",
       "      <td>...</td>\n",
       "      <td>...</td>\n",
       "      <td>...</td>\n",
       "      <td>...</td>\n",
       "      <td>...</td>\n",
       "      <td>...</td>\n",
       "      <td>...</td>\n",
       "      <td>...</td>\n",
       "      <td>...</td>\n",
       "      <td>...</td>\n",
       "      <td>...</td>\n",
       "      <td>...</td>\n",
       "      <td>...</td>\n",
       "    </tr>\n",
       "    <tr>\n",
       "      <th>2914</th>\n",
       "      <td>2915</td>\n",
       "      <td>160</td>\n",
       "      <td>RM</td>\n",
       "      <td>21.0</td>\n",
       "      <td>1936</td>\n",
       "      <td>Pave</td>\n",
       "      <td>NaN</td>\n",
       "      <td>Reg</td>\n",
       "      <td>Lvl</td>\n",
       "      <td>AllPub</td>\n",
       "      <td>...</td>\n",
       "      <td>0</td>\n",
       "      <td>NaN</td>\n",
       "      <td>NaN</td>\n",
       "      <td>NaN</td>\n",
       "      <td>0</td>\n",
       "      <td>6</td>\n",
       "      <td>2006</td>\n",
       "      <td>WD</td>\n",
       "      <td>Normal</td>\n",
       "      <td>NaN</td>\n",
       "    </tr>\n",
       "    <tr>\n",
       "      <th>2915</th>\n",
       "      <td>2916</td>\n",
       "      <td>160</td>\n",
       "      <td>RM</td>\n",
       "      <td>21.0</td>\n",
       "      <td>1894</td>\n",
       "      <td>Pave</td>\n",
       "      <td>NaN</td>\n",
       "      <td>Reg</td>\n",
       "      <td>Lvl</td>\n",
       "      <td>AllPub</td>\n",
       "      <td>...</td>\n",
       "      <td>0</td>\n",
       "      <td>NaN</td>\n",
       "      <td>NaN</td>\n",
       "      <td>NaN</td>\n",
       "      <td>0</td>\n",
       "      <td>4</td>\n",
       "      <td>2006</td>\n",
       "      <td>WD</td>\n",
       "      <td>Abnorml</td>\n",
       "      <td>NaN</td>\n",
       "    </tr>\n",
       "    <tr>\n",
       "      <th>2916</th>\n",
       "      <td>2917</td>\n",
       "      <td>20</td>\n",
       "      <td>RL</td>\n",
       "      <td>160.0</td>\n",
       "      <td>20000</td>\n",
       "      <td>Pave</td>\n",
       "      <td>NaN</td>\n",
       "      <td>Reg</td>\n",
       "      <td>Lvl</td>\n",
       "      <td>AllPub</td>\n",
       "      <td>...</td>\n",
       "      <td>0</td>\n",
       "      <td>NaN</td>\n",
       "      <td>NaN</td>\n",
       "      <td>NaN</td>\n",
       "      <td>0</td>\n",
       "      <td>9</td>\n",
       "      <td>2006</td>\n",
       "      <td>WD</td>\n",
       "      <td>Abnorml</td>\n",
       "      <td>NaN</td>\n",
       "    </tr>\n",
       "    <tr>\n",
       "      <th>2917</th>\n",
       "      <td>2918</td>\n",
       "      <td>85</td>\n",
       "      <td>RL</td>\n",
       "      <td>62.0</td>\n",
       "      <td>10441</td>\n",
       "      <td>Pave</td>\n",
       "      <td>NaN</td>\n",
       "      <td>Reg</td>\n",
       "      <td>Lvl</td>\n",
       "      <td>AllPub</td>\n",
       "      <td>...</td>\n",
       "      <td>0</td>\n",
       "      <td>NaN</td>\n",
       "      <td>MnPrv</td>\n",
       "      <td>Shed</td>\n",
       "      <td>700</td>\n",
       "      <td>7</td>\n",
       "      <td>2006</td>\n",
       "      <td>WD</td>\n",
       "      <td>Normal</td>\n",
       "      <td>NaN</td>\n",
       "    </tr>\n",
       "    <tr>\n",
       "      <th>2918</th>\n",
       "      <td>2919</td>\n",
       "      <td>60</td>\n",
       "      <td>RL</td>\n",
       "      <td>74.0</td>\n",
       "      <td>9627</td>\n",
       "      <td>Pave</td>\n",
       "      <td>NaN</td>\n",
       "      <td>Reg</td>\n",
       "      <td>Lvl</td>\n",
       "      <td>AllPub</td>\n",
       "      <td>...</td>\n",
       "      <td>0</td>\n",
       "      <td>NaN</td>\n",
       "      <td>NaN</td>\n",
       "      <td>NaN</td>\n",
       "      <td>0</td>\n",
       "      <td>11</td>\n",
       "      <td>2006</td>\n",
       "      <td>WD</td>\n",
       "      <td>Normal</td>\n",
       "      <td>NaN</td>\n",
       "    </tr>\n",
       "  </tbody>\n",
       "</table>\n",
       "<p>2919 rows × 81 columns</p>\n",
       "</div>"
      ],
      "text/plain": [
       "        Id  MSSubClass MSZoning  LotFrontage  LotArea Street Alley LotShape  \\\n",
       "0        1          60       RL         65.0     8450   Pave   NaN      Reg   \n",
       "1        2          20       RL         80.0     9600   Pave   NaN      Reg   \n",
       "2        3          60       RL         68.0    11250   Pave   NaN      IR1   \n",
       "3        4          70       RL         60.0     9550   Pave   NaN      IR1   \n",
       "4        5          60       RL         84.0    14260   Pave   NaN      IR1   \n",
       "...    ...         ...      ...          ...      ...    ...   ...      ...   \n",
       "2914  2915         160       RM         21.0     1936   Pave   NaN      Reg   \n",
       "2915  2916         160       RM         21.0     1894   Pave   NaN      Reg   \n",
       "2916  2917          20       RL        160.0    20000   Pave   NaN      Reg   \n",
       "2917  2918          85       RL         62.0    10441   Pave   NaN      Reg   \n",
       "2918  2919          60       RL         74.0     9627   Pave   NaN      Reg   \n",
       "\n",
       "     LandContour Utilities  ... PoolArea PoolQC  Fence MiscFeature MiscVal  \\\n",
       "0            Lvl    AllPub  ...        0    NaN    NaN         NaN       0   \n",
       "1            Lvl    AllPub  ...        0    NaN    NaN         NaN       0   \n",
       "2            Lvl    AllPub  ...        0    NaN    NaN         NaN       0   \n",
       "3            Lvl    AllPub  ...        0    NaN    NaN         NaN       0   \n",
       "4            Lvl    AllPub  ...        0    NaN    NaN         NaN       0   \n",
       "...          ...       ...  ...      ...    ...    ...         ...     ...   \n",
       "2914         Lvl    AllPub  ...        0    NaN    NaN         NaN       0   \n",
       "2915         Lvl    AllPub  ...        0    NaN    NaN         NaN       0   \n",
       "2916         Lvl    AllPub  ...        0    NaN    NaN         NaN       0   \n",
       "2917         Lvl    AllPub  ...        0    NaN  MnPrv        Shed     700   \n",
       "2918         Lvl    AllPub  ...        0    NaN    NaN         NaN       0   \n",
       "\n",
       "     MoSold YrSold  SaleType  SaleCondition  SalePrice  \n",
       "0         2   2008        WD         Normal   208500.0  \n",
       "1         5   2007        WD         Normal   181500.0  \n",
       "2         9   2008        WD         Normal   223500.0  \n",
       "3         2   2006        WD        Abnorml   140000.0  \n",
       "4        12   2008        WD         Normal   250000.0  \n",
       "...     ...    ...       ...            ...        ...  \n",
       "2914      6   2006        WD         Normal        NaN  \n",
       "2915      4   2006        WD        Abnorml        NaN  \n",
       "2916      9   2006        WD        Abnorml        NaN  \n",
       "2917      7   2006        WD         Normal        NaN  \n",
       "2918     11   2006        WD         Normal        NaN  \n",
       "\n",
       "[2919 rows x 81 columns]"
      ]
     },
     "execution_count": 1305,
     "metadata": {},
     "output_type": "execute_result"
    }
   ],
   "source": [
    "df"
   ]
  },
  {
   "cell_type": "code",
   "execution_count": 1306,
   "id": "dfed7d84",
   "metadata": {},
   "outputs": [
    {
     "data": {
      "text/plain": [
       "(2919, 81)"
      ]
     },
     "execution_count": 1306,
     "metadata": {},
     "output_type": "execute_result"
    }
   ],
   "source": [
    "df.shape"
   ]
  },
  {
   "cell_type": "code",
   "execution_count": 1307,
   "id": "b4794fd6",
   "metadata": {},
   "outputs": [
    {
     "data": {
      "text/html": [
       "<div>\n",
       "<style scoped>\n",
       "    .dataframe tbody tr th:only-of-type {\n",
       "        vertical-align: middle;\n",
       "    }\n",
       "\n",
       "    .dataframe tbody tr th {\n",
       "        vertical-align: top;\n",
       "    }\n",
       "\n",
       "    .dataframe thead th {\n",
       "        text-align: right;\n",
       "    }\n",
       "</style>\n",
       "<table border=\"1\" class=\"dataframe\">\n",
       "  <thead>\n",
       "    <tr style=\"text-align: right;\">\n",
       "      <th></th>\n",
       "      <th>Id</th>\n",
       "      <th>MSSubClass</th>\n",
       "      <th>LotFrontage</th>\n",
       "      <th>LotArea</th>\n",
       "      <th>OverallQual</th>\n",
       "      <th>OverallCond</th>\n",
       "      <th>YearBuilt</th>\n",
       "      <th>YearRemodAdd</th>\n",
       "      <th>MasVnrArea</th>\n",
       "      <th>BsmtFinSF1</th>\n",
       "      <th>...</th>\n",
       "      <th>WoodDeckSF</th>\n",
       "      <th>OpenPorchSF</th>\n",
       "      <th>EnclosedPorch</th>\n",
       "      <th>3SsnPorch</th>\n",
       "      <th>ScreenPorch</th>\n",
       "      <th>PoolArea</th>\n",
       "      <th>MiscVal</th>\n",
       "      <th>MoSold</th>\n",
       "      <th>YrSold</th>\n",
       "      <th>SalePrice</th>\n",
       "    </tr>\n",
       "  </thead>\n",
       "  <tbody>\n",
       "    <tr>\n",
       "      <th>count</th>\n",
       "      <td>2919.000000</td>\n",
       "      <td>2919.000000</td>\n",
       "      <td>2433.000000</td>\n",
       "      <td>2919.000000</td>\n",
       "      <td>2919.000000</td>\n",
       "      <td>2919.000000</td>\n",
       "      <td>2919.000000</td>\n",
       "      <td>2919.000000</td>\n",
       "      <td>2896.000000</td>\n",
       "      <td>2918.000000</td>\n",
       "      <td>...</td>\n",
       "      <td>2919.000000</td>\n",
       "      <td>2919.000000</td>\n",
       "      <td>2919.000000</td>\n",
       "      <td>2919.000000</td>\n",
       "      <td>2919.000000</td>\n",
       "      <td>2919.000000</td>\n",
       "      <td>2919.000000</td>\n",
       "      <td>2919.000000</td>\n",
       "      <td>2919.000000</td>\n",
       "      <td>1460.000000</td>\n",
       "    </tr>\n",
       "    <tr>\n",
       "      <th>mean</th>\n",
       "      <td>1460.000000</td>\n",
       "      <td>57.137718</td>\n",
       "      <td>69.305795</td>\n",
       "      <td>10168.114080</td>\n",
       "      <td>6.089072</td>\n",
       "      <td>5.564577</td>\n",
       "      <td>1971.312778</td>\n",
       "      <td>1984.264474</td>\n",
       "      <td>102.201312</td>\n",
       "      <td>441.423235</td>\n",
       "      <td>...</td>\n",
       "      <td>93.709832</td>\n",
       "      <td>47.486811</td>\n",
       "      <td>23.098321</td>\n",
       "      <td>2.602261</td>\n",
       "      <td>16.062350</td>\n",
       "      <td>2.251799</td>\n",
       "      <td>50.825968</td>\n",
       "      <td>6.213087</td>\n",
       "      <td>2007.792737</td>\n",
       "      <td>180921.195890</td>\n",
       "    </tr>\n",
       "    <tr>\n",
       "      <th>std</th>\n",
       "      <td>842.787043</td>\n",
       "      <td>42.517628</td>\n",
       "      <td>23.344905</td>\n",
       "      <td>7886.996359</td>\n",
       "      <td>1.409947</td>\n",
       "      <td>1.113131</td>\n",
       "      <td>30.291442</td>\n",
       "      <td>20.894344</td>\n",
       "      <td>179.334253</td>\n",
       "      <td>455.610826</td>\n",
       "      <td>...</td>\n",
       "      <td>126.526589</td>\n",
       "      <td>67.575493</td>\n",
       "      <td>64.244246</td>\n",
       "      <td>25.188169</td>\n",
       "      <td>56.184365</td>\n",
       "      <td>35.663946</td>\n",
       "      <td>567.402211</td>\n",
       "      <td>2.714762</td>\n",
       "      <td>1.314964</td>\n",
       "      <td>79442.502883</td>\n",
       "    </tr>\n",
       "    <tr>\n",
       "      <th>min</th>\n",
       "      <td>1.000000</td>\n",
       "      <td>20.000000</td>\n",
       "      <td>21.000000</td>\n",
       "      <td>1300.000000</td>\n",
       "      <td>1.000000</td>\n",
       "      <td>1.000000</td>\n",
       "      <td>1872.000000</td>\n",
       "      <td>1950.000000</td>\n",
       "      <td>0.000000</td>\n",
       "      <td>0.000000</td>\n",
       "      <td>...</td>\n",
       "      <td>0.000000</td>\n",
       "      <td>0.000000</td>\n",
       "      <td>0.000000</td>\n",
       "      <td>0.000000</td>\n",
       "      <td>0.000000</td>\n",
       "      <td>0.000000</td>\n",
       "      <td>0.000000</td>\n",
       "      <td>1.000000</td>\n",
       "      <td>2006.000000</td>\n",
       "      <td>34900.000000</td>\n",
       "    </tr>\n",
       "    <tr>\n",
       "      <th>25%</th>\n",
       "      <td>730.500000</td>\n",
       "      <td>20.000000</td>\n",
       "      <td>59.000000</td>\n",
       "      <td>7478.000000</td>\n",
       "      <td>5.000000</td>\n",
       "      <td>5.000000</td>\n",
       "      <td>1953.500000</td>\n",
       "      <td>1965.000000</td>\n",
       "      <td>0.000000</td>\n",
       "      <td>0.000000</td>\n",
       "      <td>...</td>\n",
       "      <td>0.000000</td>\n",
       "      <td>0.000000</td>\n",
       "      <td>0.000000</td>\n",
       "      <td>0.000000</td>\n",
       "      <td>0.000000</td>\n",
       "      <td>0.000000</td>\n",
       "      <td>0.000000</td>\n",
       "      <td>4.000000</td>\n",
       "      <td>2007.000000</td>\n",
       "      <td>129975.000000</td>\n",
       "    </tr>\n",
       "    <tr>\n",
       "      <th>50%</th>\n",
       "      <td>1460.000000</td>\n",
       "      <td>50.000000</td>\n",
       "      <td>68.000000</td>\n",
       "      <td>9453.000000</td>\n",
       "      <td>6.000000</td>\n",
       "      <td>5.000000</td>\n",
       "      <td>1973.000000</td>\n",
       "      <td>1993.000000</td>\n",
       "      <td>0.000000</td>\n",
       "      <td>368.500000</td>\n",
       "      <td>...</td>\n",
       "      <td>0.000000</td>\n",
       "      <td>26.000000</td>\n",
       "      <td>0.000000</td>\n",
       "      <td>0.000000</td>\n",
       "      <td>0.000000</td>\n",
       "      <td>0.000000</td>\n",
       "      <td>0.000000</td>\n",
       "      <td>6.000000</td>\n",
       "      <td>2008.000000</td>\n",
       "      <td>163000.000000</td>\n",
       "    </tr>\n",
       "    <tr>\n",
       "      <th>75%</th>\n",
       "      <td>2189.500000</td>\n",
       "      <td>70.000000</td>\n",
       "      <td>80.000000</td>\n",
       "      <td>11570.000000</td>\n",
       "      <td>7.000000</td>\n",
       "      <td>6.000000</td>\n",
       "      <td>2001.000000</td>\n",
       "      <td>2004.000000</td>\n",
       "      <td>164.000000</td>\n",
       "      <td>733.000000</td>\n",
       "      <td>...</td>\n",
       "      <td>168.000000</td>\n",
       "      <td>70.000000</td>\n",
       "      <td>0.000000</td>\n",
       "      <td>0.000000</td>\n",
       "      <td>0.000000</td>\n",
       "      <td>0.000000</td>\n",
       "      <td>0.000000</td>\n",
       "      <td>8.000000</td>\n",
       "      <td>2009.000000</td>\n",
       "      <td>214000.000000</td>\n",
       "    </tr>\n",
       "    <tr>\n",
       "      <th>max</th>\n",
       "      <td>2919.000000</td>\n",
       "      <td>190.000000</td>\n",
       "      <td>313.000000</td>\n",
       "      <td>215245.000000</td>\n",
       "      <td>10.000000</td>\n",
       "      <td>9.000000</td>\n",
       "      <td>2010.000000</td>\n",
       "      <td>2010.000000</td>\n",
       "      <td>1600.000000</td>\n",
       "      <td>5644.000000</td>\n",
       "      <td>...</td>\n",
       "      <td>1424.000000</td>\n",
       "      <td>742.000000</td>\n",
       "      <td>1012.000000</td>\n",
       "      <td>508.000000</td>\n",
       "      <td>576.000000</td>\n",
       "      <td>800.000000</td>\n",
       "      <td>17000.000000</td>\n",
       "      <td>12.000000</td>\n",
       "      <td>2010.000000</td>\n",
       "      <td>755000.000000</td>\n",
       "    </tr>\n",
       "  </tbody>\n",
       "</table>\n",
       "<p>8 rows × 38 columns</p>\n",
       "</div>"
      ],
      "text/plain": [
       "                Id   MSSubClass  LotFrontage        LotArea  OverallQual  \\\n",
       "count  2919.000000  2919.000000  2433.000000    2919.000000  2919.000000   \n",
       "mean   1460.000000    57.137718    69.305795   10168.114080     6.089072   \n",
       "std     842.787043    42.517628    23.344905    7886.996359     1.409947   \n",
       "min       1.000000    20.000000    21.000000    1300.000000     1.000000   \n",
       "25%     730.500000    20.000000    59.000000    7478.000000     5.000000   \n",
       "50%    1460.000000    50.000000    68.000000    9453.000000     6.000000   \n",
       "75%    2189.500000    70.000000    80.000000   11570.000000     7.000000   \n",
       "max    2919.000000   190.000000   313.000000  215245.000000    10.000000   \n",
       "\n",
       "       OverallCond    YearBuilt  YearRemodAdd   MasVnrArea   BsmtFinSF1  ...  \\\n",
       "count  2919.000000  2919.000000   2919.000000  2896.000000  2918.000000  ...   \n",
       "mean      5.564577  1971.312778   1984.264474   102.201312   441.423235  ...   \n",
       "std       1.113131    30.291442     20.894344   179.334253   455.610826  ...   \n",
       "min       1.000000  1872.000000   1950.000000     0.000000     0.000000  ...   \n",
       "25%       5.000000  1953.500000   1965.000000     0.000000     0.000000  ...   \n",
       "50%       5.000000  1973.000000   1993.000000     0.000000   368.500000  ...   \n",
       "75%       6.000000  2001.000000   2004.000000   164.000000   733.000000  ...   \n",
       "max       9.000000  2010.000000   2010.000000  1600.000000  5644.000000  ...   \n",
       "\n",
       "        WoodDeckSF  OpenPorchSF  EnclosedPorch    3SsnPorch  ScreenPorch  \\\n",
       "count  2919.000000  2919.000000    2919.000000  2919.000000  2919.000000   \n",
       "mean     93.709832    47.486811      23.098321     2.602261    16.062350   \n",
       "std     126.526589    67.575493      64.244246    25.188169    56.184365   \n",
       "min       0.000000     0.000000       0.000000     0.000000     0.000000   \n",
       "25%       0.000000     0.000000       0.000000     0.000000     0.000000   \n",
       "50%       0.000000    26.000000       0.000000     0.000000     0.000000   \n",
       "75%     168.000000    70.000000       0.000000     0.000000     0.000000   \n",
       "max    1424.000000   742.000000    1012.000000   508.000000   576.000000   \n",
       "\n",
       "          PoolArea       MiscVal       MoSold       YrSold      SalePrice  \n",
       "count  2919.000000   2919.000000  2919.000000  2919.000000    1460.000000  \n",
       "mean      2.251799     50.825968     6.213087  2007.792737  180921.195890  \n",
       "std      35.663946    567.402211     2.714762     1.314964   79442.502883  \n",
       "min       0.000000      0.000000     1.000000  2006.000000   34900.000000  \n",
       "25%       0.000000      0.000000     4.000000  2007.000000  129975.000000  \n",
       "50%       0.000000      0.000000     6.000000  2008.000000  163000.000000  \n",
       "75%       0.000000      0.000000     8.000000  2009.000000  214000.000000  \n",
       "max     800.000000  17000.000000    12.000000  2010.000000  755000.000000  \n",
       "\n",
       "[8 rows x 38 columns]"
      ]
     },
     "execution_count": 1307,
     "metadata": {},
     "output_type": "execute_result"
    }
   ],
   "source": [
    "df.describe()"
   ]
  },
  {
   "cell_type": "code",
   "execution_count": 1308,
   "id": "93b7263b",
   "metadata": {},
   "outputs": [
    {
     "data": {
      "text/plain": [
       "Id                  0\n",
       "MSSubClass          0\n",
       "MSZoning            4\n",
       "LotFrontage       486\n",
       "LotArea             0\n",
       "                 ... \n",
       "MoSold              0\n",
       "YrSold              0\n",
       "SaleType            1\n",
       "SaleCondition       0\n",
       "SalePrice        1459\n",
       "Length: 81, dtype: int64"
      ]
     },
     "execution_count": 1308,
     "metadata": {},
     "output_type": "execute_result"
    }
   ],
   "source": [
    "df.isnull().sum()"
   ]
  },
  {
   "cell_type": "code",
   "execution_count": 1309,
   "id": "c13810df",
   "metadata": {},
   "outputs": [
    {
     "data": {
      "text/plain": [
       "Index(['MSZoning', 'LotFrontage', 'Alley', 'Utilities', 'Exterior1st',\n",
       "       'Exterior2nd', 'MasVnrType', 'MasVnrArea', 'BsmtQual', 'BsmtCond',\n",
       "       'BsmtExposure', 'BsmtFinType1', 'BsmtFinSF1', 'BsmtFinType2',\n",
       "       'BsmtFinSF2', 'BsmtUnfSF', 'TotalBsmtSF', 'Electrical', 'BsmtFullBath',\n",
       "       'BsmtHalfBath', 'KitchenQual', 'Functional', 'FireplaceQu',\n",
       "       'GarageType', 'GarageYrBlt', 'GarageFinish', 'GarageCars', 'GarageArea',\n",
       "       'GarageQual', 'GarageCond', 'PoolQC', 'Fence', 'MiscFeature',\n",
       "       'SaleType', 'SalePrice'],\n",
       "      dtype='object')"
      ]
     },
     "execution_count": 1309,
     "metadata": {},
     "output_type": "execute_result"
    }
   ],
   "source": [
    "df.columns[df.isnull().any()]"
   ]
  },
  {
   "cell_type": "code",
   "execution_count": 1310,
   "id": "781329a3",
   "metadata": {},
   "outputs": [
    {
     "data": {
      "text/html": [
       "<div>\n",
       "<style scoped>\n",
       "    .dataframe tbody tr th:only-of-type {\n",
       "        vertical-align: middle;\n",
       "    }\n",
       "\n",
       "    .dataframe tbody tr th {\n",
       "        vertical-align: top;\n",
       "    }\n",
       "\n",
       "    .dataframe thead th {\n",
       "        text-align: right;\n",
       "    }\n",
       "</style>\n",
       "<table border=\"1\" class=\"dataframe\">\n",
       "  <thead>\n",
       "    <tr style=\"text-align: right;\">\n",
       "      <th></th>\n",
       "      <th>count</th>\n",
       "      <th>mean</th>\n",
       "      <th>std</th>\n",
       "      <th>min</th>\n",
       "      <th>25%</th>\n",
       "      <th>50%</th>\n",
       "      <th>75%</th>\n",
       "      <th>max</th>\n",
       "    </tr>\n",
       "  </thead>\n",
       "  <tbody>\n",
       "    <tr>\n",
       "      <th>Id</th>\n",
       "      <td>2919.0</td>\n",
       "      <td>1460.000000</td>\n",
       "      <td>842.787043</td>\n",
       "      <td>1.0</td>\n",
       "      <td>730.5</td>\n",
       "      <td>1460.0</td>\n",
       "      <td>2189.5</td>\n",
       "      <td>2919.0</td>\n",
       "    </tr>\n",
       "    <tr>\n",
       "      <th>MSSubClass</th>\n",
       "      <td>2919.0</td>\n",
       "      <td>57.137718</td>\n",
       "      <td>42.517628</td>\n",
       "      <td>20.0</td>\n",
       "      <td>20.0</td>\n",
       "      <td>50.0</td>\n",
       "      <td>70.0</td>\n",
       "      <td>190.0</td>\n",
       "    </tr>\n",
       "    <tr>\n",
       "      <th>LotFrontage</th>\n",
       "      <td>2433.0</td>\n",
       "      <td>69.305795</td>\n",
       "      <td>23.344905</td>\n",
       "      <td>21.0</td>\n",
       "      <td>59.0</td>\n",
       "      <td>68.0</td>\n",
       "      <td>80.0</td>\n",
       "      <td>313.0</td>\n",
       "    </tr>\n",
       "    <tr>\n",
       "      <th>LotArea</th>\n",
       "      <td>2919.0</td>\n",
       "      <td>10168.114080</td>\n",
       "      <td>7886.996359</td>\n",
       "      <td>1300.0</td>\n",
       "      <td>7478.0</td>\n",
       "      <td>9453.0</td>\n",
       "      <td>11570.0</td>\n",
       "      <td>215245.0</td>\n",
       "    </tr>\n",
       "    <tr>\n",
       "      <th>OverallQual</th>\n",
       "      <td>2919.0</td>\n",
       "      <td>6.089072</td>\n",
       "      <td>1.409947</td>\n",
       "      <td>1.0</td>\n",
       "      <td>5.0</td>\n",
       "      <td>6.0</td>\n",
       "      <td>7.0</td>\n",
       "      <td>10.0</td>\n",
       "    </tr>\n",
       "    <tr>\n",
       "      <th>OverallCond</th>\n",
       "      <td>2919.0</td>\n",
       "      <td>5.564577</td>\n",
       "      <td>1.113131</td>\n",
       "      <td>1.0</td>\n",
       "      <td>5.0</td>\n",
       "      <td>5.0</td>\n",
       "      <td>6.0</td>\n",
       "      <td>9.0</td>\n",
       "    </tr>\n",
       "    <tr>\n",
       "      <th>YearBuilt</th>\n",
       "      <td>2919.0</td>\n",
       "      <td>1971.312778</td>\n",
       "      <td>30.291442</td>\n",
       "      <td>1872.0</td>\n",
       "      <td>1953.5</td>\n",
       "      <td>1973.0</td>\n",
       "      <td>2001.0</td>\n",
       "      <td>2010.0</td>\n",
       "    </tr>\n",
       "    <tr>\n",
       "      <th>YearRemodAdd</th>\n",
       "      <td>2919.0</td>\n",
       "      <td>1984.264474</td>\n",
       "      <td>20.894344</td>\n",
       "      <td>1950.0</td>\n",
       "      <td>1965.0</td>\n",
       "      <td>1993.0</td>\n",
       "      <td>2004.0</td>\n",
       "      <td>2010.0</td>\n",
       "    </tr>\n",
       "    <tr>\n",
       "      <th>MasVnrArea</th>\n",
       "      <td>2896.0</td>\n",
       "      <td>102.201312</td>\n",
       "      <td>179.334253</td>\n",
       "      <td>0.0</td>\n",
       "      <td>0.0</td>\n",
       "      <td>0.0</td>\n",
       "      <td>164.0</td>\n",
       "      <td>1600.0</td>\n",
       "    </tr>\n",
       "    <tr>\n",
       "      <th>BsmtFinSF1</th>\n",
       "      <td>2918.0</td>\n",
       "      <td>441.423235</td>\n",
       "      <td>455.610826</td>\n",
       "      <td>0.0</td>\n",
       "      <td>0.0</td>\n",
       "      <td>368.5</td>\n",
       "      <td>733.0</td>\n",
       "      <td>5644.0</td>\n",
       "    </tr>\n",
       "    <tr>\n",
       "      <th>BsmtFinSF2</th>\n",
       "      <td>2918.0</td>\n",
       "      <td>49.582248</td>\n",
       "      <td>169.205611</td>\n",
       "      <td>0.0</td>\n",
       "      <td>0.0</td>\n",
       "      <td>0.0</td>\n",
       "      <td>0.0</td>\n",
       "      <td>1526.0</td>\n",
       "    </tr>\n",
       "    <tr>\n",
       "      <th>BsmtUnfSF</th>\n",
       "      <td>2918.0</td>\n",
       "      <td>560.772104</td>\n",
       "      <td>439.543659</td>\n",
       "      <td>0.0</td>\n",
       "      <td>220.0</td>\n",
       "      <td>467.0</td>\n",
       "      <td>805.5</td>\n",
       "      <td>2336.0</td>\n",
       "    </tr>\n",
       "    <tr>\n",
       "      <th>TotalBsmtSF</th>\n",
       "      <td>2918.0</td>\n",
       "      <td>1051.777587</td>\n",
       "      <td>440.766258</td>\n",
       "      <td>0.0</td>\n",
       "      <td>793.0</td>\n",
       "      <td>989.5</td>\n",
       "      <td>1302.0</td>\n",
       "      <td>6110.0</td>\n",
       "    </tr>\n",
       "    <tr>\n",
       "      <th>1stFlrSF</th>\n",
       "      <td>2919.0</td>\n",
       "      <td>1159.581706</td>\n",
       "      <td>392.362079</td>\n",
       "      <td>334.0</td>\n",
       "      <td>876.0</td>\n",
       "      <td>1082.0</td>\n",
       "      <td>1387.5</td>\n",
       "      <td>5095.0</td>\n",
       "    </tr>\n",
       "    <tr>\n",
       "      <th>2ndFlrSF</th>\n",
       "      <td>2919.0</td>\n",
       "      <td>336.483727</td>\n",
       "      <td>428.701456</td>\n",
       "      <td>0.0</td>\n",
       "      <td>0.0</td>\n",
       "      <td>0.0</td>\n",
       "      <td>704.0</td>\n",
       "      <td>2065.0</td>\n",
       "    </tr>\n",
       "    <tr>\n",
       "      <th>LowQualFinSF</th>\n",
       "      <td>2919.0</td>\n",
       "      <td>4.694416</td>\n",
       "      <td>46.396825</td>\n",
       "      <td>0.0</td>\n",
       "      <td>0.0</td>\n",
       "      <td>0.0</td>\n",
       "      <td>0.0</td>\n",
       "      <td>1064.0</td>\n",
       "    </tr>\n",
       "    <tr>\n",
       "      <th>GrLivArea</th>\n",
       "      <td>2919.0</td>\n",
       "      <td>1500.759849</td>\n",
       "      <td>506.051045</td>\n",
       "      <td>334.0</td>\n",
       "      <td>1126.0</td>\n",
       "      <td>1444.0</td>\n",
       "      <td>1743.5</td>\n",
       "      <td>5642.0</td>\n",
       "    </tr>\n",
       "    <tr>\n",
       "      <th>BsmtFullBath</th>\n",
       "      <td>2917.0</td>\n",
       "      <td>0.429894</td>\n",
       "      <td>0.524736</td>\n",
       "      <td>0.0</td>\n",
       "      <td>0.0</td>\n",
       "      <td>0.0</td>\n",
       "      <td>1.0</td>\n",
       "      <td>3.0</td>\n",
       "    </tr>\n",
       "    <tr>\n",
       "      <th>BsmtHalfBath</th>\n",
       "      <td>2917.0</td>\n",
       "      <td>0.061364</td>\n",
       "      <td>0.245687</td>\n",
       "      <td>0.0</td>\n",
       "      <td>0.0</td>\n",
       "      <td>0.0</td>\n",
       "      <td>0.0</td>\n",
       "      <td>2.0</td>\n",
       "    </tr>\n",
       "    <tr>\n",
       "      <th>FullBath</th>\n",
       "      <td>2919.0</td>\n",
       "      <td>1.568003</td>\n",
       "      <td>0.552969</td>\n",
       "      <td>0.0</td>\n",
       "      <td>1.0</td>\n",
       "      <td>2.0</td>\n",
       "      <td>2.0</td>\n",
       "      <td>4.0</td>\n",
       "    </tr>\n",
       "    <tr>\n",
       "      <th>HalfBath</th>\n",
       "      <td>2919.0</td>\n",
       "      <td>0.380267</td>\n",
       "      <td>0.502872</td>\n",
       "      <td>0.0</td>\n",
       "      <td>0.0</td>\n",
       "      <td>0.0</td>\n",
       "      <td>1.0</td>\n",
       "      <td>2.0</td>\n",
       "    </tr>\n",
       "    <tr>\n",
       "      <th>BedroomAbvGr</th>\n",
       "      <td>2919.0</td>\n",
       "      <td>2.860226</td>\n",
       "      <td>0.822693</td>\n",
       "      <td>0.0</td>\n",
       "      <td>2.0</td>\n",
       "      <td>3.0</td>\n",
       "      <td>3.0</td>\n",
       "      <td>8.0</td>\n",
       "    </tr>\n",
       "    <tr>\n",
       "      <th>KitchenAbvGr</th>\n",
       "      <td>2919.0</td>\n",
       "      <td>1.044536</td>\n",
       "      <td>0.214462</td>\n",
       "      <td>0.0</td>\n",
       "      <td>1.0</td>\n",
       "      <td>1.0</td>\n",
       "      <td>1.0</td>\n",
       "      <td>3.0</td>\n",
       "    </tr>\n",
       "    <tr>\n",
       "      <th>TotRmsAbvGrd</th>\n",
       "      <td>2919.0</td>\n",
       "      <td>6.451524</td>\n",
       "      <td>1.569379</td>\n",
       "      <td>2.0</td>\n",
       "      <td>5.0</td>\n",
       "      <td>6.0</td>\n",
       "      <td>7.0</td>\n",
       "      <td>15.0</td>\n",
       "    </tr>\n",
       "    <tr>\n",
       "      <th>Fireplaces</th>\n",
       "      <td>2919.0</td>\n",
       "      <td>0.597122</td>\n",
       "      <td>0.646129</td>\n",
       "      <td>0.0</td>\n",
       "      <td>0.0</td>\n",
       "      <td>1.0</td>\n",
       "      <td>1.0</td>\n",
       "      <td>4.0</td>\n",
       "    </tr>\n",
       "    <tr>\n",
       "      <th>GarageYrBlt</th>\n",
       "      <td>2760.0</td>\n",
       "      <td>1978.113406</td>\n",
       "      <td>25.574285</td>\n",
       "      <td>1895.0</td>\n",
       "      <td>1960.0</td>\n",
       "      <td>1979.0</td>\n",
       "      <td>2002.0</td>\n",
       "      <td>2207.0</td>\n",
       "    </tr>\n",
       "    <tr>\n",
       "      <th>GarageCars</th>\n",
       "      <td>2918.0</td>\n",
       "      <td>1.766621</td>\n",
       "      <td>0.761624</td>\n",
       "      <td>0.0</td>\n",
       "      <td>1.0</td>\n",
       "      <td>2.0</td>\n",
       "      <td>2.0</td>\n",
       "      <td>5.0</td>\n",
       "    </tr>\n",
       "    <tr>\n",
       "      <th>GarageArea</th>\n",
       "      <td>2918.0</td>\n",
       "      <td>472.874572</td>\n",
       "      <td>215.394815</td>\n",
       "      <td>0.0</td>\n",
       "      <td>320.0</td>\n",
       "      <td>480.0</td>\n",
       "      <td>576.0</td>\n",
       "      <td>1488.0</td>\n",
       "    </tr>\n",
       "    <tr>\n",
       "      <th>WoodDeckSF</th>\n",
       "      <td>2919.0</td>\n",
       "      <td>93.709832</td>\n",
       "      <td>126.526589</td>\n",
       "      <td>0.0</td>\n",
       "      <td>0.0</td>\n",
       "      <td>0.0</td>\n",
       "      <td>168.0</td>\n",
       "      <td>1424.0</td>\n",
       "    </tr>\n",
       "    <tr>\n",
       "      <th>OpenPorchSF</th>\n",
       "      <td>2919.0</td>\n",
       "      <td>47.486811</td>\n",
       "      <td>67.575493</td>\n",
       "      <td>0.0</td>\n",
       "      <td>0.0</td>\n",
       "      <td>26.0</td>\n",
       "      <td>70.0</td>\n",
       "      <td>742.0</td>\n",
       "    </tr>\n",
       "    <tr>\n",
       "      <th>EnclosedPorch</th>\n",
       "      <td>2919.0</td>\n",
       "      <td>23.098321</td>\n",
       "      <td>64.244246</td>\n",
       "      <td>0.0</td>\n",
       "      <td>0.0</td>\n",
       "      <td>0.0</td>\n",
       "      <td>0.0</td>\n",
       "      <td>1012.0</td>\n",
       "    </tr>\n",
       "    <tr>\n",
       "      <th>3SsnPorch</th>\n",
       "      <td>2919.0</td>\n",
       "      <td>2.602261</td>\n",
       "      <td>25.188169</td>\n",
       "      <td>0.0</td>\n",
       "      <td>0.0</td>\n",
       "      <td>0.0</td>\n",
       "      <td>0.0</td>\n",
       "      <td>508.0</td>\n",
       "    </tr>\n",
       "    <tr>\n",
       "      <th>ScreenPorch</th>\n",
       "      <td>2919.0</td>\n",
       "      <td>16.062350</td>\n",
       "      <td>56.184365</td>\n",
       "      <td>0.0</td>\n",
       "      <td>0.0</td>\n",
       "      <td>0.0</td>\n",
       "      <td>0.0</td>\n",
       "      <td>576.0</td>\n",
       "    </tr>\n",
       "    <tr>\n",
       "      <th>PoolArea</th>\n",
       "      <td>2919.0</td>\n",
       "      <td>2.251799</td>\n",
       "      <td>35.663946</td>\n",
       "      <td>0.0</td>\n",
       "      <td>0.0</td>\n",
       "      <td>0.0</td>\n",
       "      <td>0.0</td>\n",
       "      <td>800.0</td>\n",
       "    </tr>\n",
       "    <tr>\n",
       "      <th>MiscVal</th>\n",
       "      <td>2919.0</td>\n",
       "      <td>50.825968</td>\n",
       "      <td>567.402211</td>\n",
       "      <td>0.0</td>\n",
       "      <td>0.0</td>\n",
       "      <td>0.0</td>\n",
       "      <td>0.0</td>\n",
       "      <td>17000.0</td>\n",
       "    </tr>\n",
       "    <tr>\n",
       "      <th>MoSold</th>\n",
       "      <td>2919.0</td>\n",
       "      <td>6.213087</td>\n",
       "      <td>2.714762</td>\n",
       "      <td>1.0</td>\n",
       "      <td>4.0</td>\n",
       "      <td>6.0</td>\n",
       "      <td>8.0</td>\n",
       "      <td>12.0</td>\n",
       "    </tr>\n",
       "    <tr>\n",
       "      <th>YrSold</th>\n",
       "      <td>2919.0</td>\n",
       "      <td>2007.792737</td>\n",
       "      <td>1.314964</td>\n",
       "      <td>2006.0</td>\n",
       "      <td>2007.0</td>\n",
       "      <td>2008.0</td>\n",
       "      <td>2009.0</td>\n",
       "      <td>2010.0</td>\n",
       "    </tr>\n",
       "    <tr>\n",
       "      <th>SalePrice</th>\n",
       "      <td>1460.0</td>\n",
       "      <td>180921.195890</td>\n",
       "      <td>79442.502883</td>\n",
       "      <td>34900.0</td>\n",
       "      <td>129975.0</td>\n",
       "      <td>163000.0</td>\n",
       "      <td>214000.0</td>\n",
       "      <td>755000.0</td>\n",
       "    </tr>\n",
       "  </tbody>\n",
       "</table>\n",
       "</div>"
      ],
      "text/plain": [
       "                count           mean           std      min       25%  \\\n",
       "Id             2919.0    1460.000000    842.787043      1.0     730.5   \n",
       "MSSubClass     2919.0      57.137718     42.517628     20.0      20.0   \n",
       "LotFrontage    2433.0      69.305795     23.344905     21.0      59.0   \n",
       "LotArea        2919.0   10168.114080   7886.996359   1300.0    7478.0   \n",
       "OverallQual    2919.0       6.089072      1.409947      1.0       5.0   \n",
       "OverallCond    2919.0       5.564577      1.113131      1.0       5.0   \n",
       "YearBuilt      2919.0    1971.312778     30.291442   1872.0    1953.5   \n",
       "YearRemodAdd   2919.0    1984.264474     20.894344   1950.0    1965.0   \n",
       "MasVnrArea     2896.0     102.201312    179.334253      0.0       0.0   \n",
       "BsmtFinSF1     2918.0     441.423235    455.610826      0.0       0.0   \n",
       "BsmtFinSF2     2918.0      49.582248    169.205611      0.0       0.0   \n",
       "BsmtUnfSF      2918.0     560.772104    439.543659      0.0     220.0   \n",
       "TotalBsmtSF    2918.0    1051.777587    440.766258      0.0     793.0   \n",
       "1stFlrSF       2919.0    1159.581706    392.362079    334.0     876.0   \n",
       "2ndFlrSF       2919.0     336.483727    428.701456      0.0       0.0   \n",
       "LowQualFinSF   2919.0       4.694416     46.396825      0.0       0.0   \n",
       "GrLivArea      2919.0    1500.759849    506.051045    334.0    1126.0   \n",
       "BsmtFullBath   2917.0       0.429894      0.524736      0.0       0.0   \n",
       "BsmtHalfBath   2917.0       0.061364      0.245687      0.0       0.0   \n",
       "FullBath       2919.0       1.568003      0.552969      0.0       1.0   \n",
       "HalfBath       2919.0       0.380267      0.502872      0.0       0.0   \n",
       "BedroomAbvGr   2919.0       2.860226      0.822693      0.0       2.0   \n",
       "KitchenAbvGr   2919.0       1.044536      0.214462      0.0       1.0   \n",
       "TotRmsAbvGrd   2919.0       6.451524      1.569379      2.0       5.0   \n",
       "Fireplaces     2919.0       0.597122      0.646129      0.0       0.0   \n",
       "GarageYrBlt    2760.0    1978.113406     25.574285   1895.0    1960.0   \n",
       "GarageCars     2918.0       1.766621      0.761624      0.0       1.0   \n",
       "GarageArea     2918.0     472.874572    215.394815      0.0     320.0   \n",
       "WoodDeckSF     2919.0      93.709832    126.526589      0.0       0.0   \n",
       "OpenPorchSF    2919.0      47.486811     67.575493      0.0       0.0   \n",
       "EnclosedPorch  2919.0      23.098321     64.244246      0.0       0.0   \n",
       "3SsnPorch      2919.0       2.602261     25.188169      0.0       0.0   \n",
       "ScreenPorch    2919.0      16.062350     56.184365      0.0       0.0   \n",
       "PoolArea       2919.0       2.251799     35.663946      0.0       0.0   \n",
       "MiscVal        2919.0      50.825968    567.402211      0.0       0.0   \n",
       "MoSold         2919.0       6.213087      2.714762      1.0       4.0   \n",
       "YrSold         2919.0    2007.792737      1.314964   2006.0    2007.0   \n",
       "SalePrice      1460.0  180921.195890  79442.502883  34900.0  129975.0   \n",
       "\n",
       "                    50%       75%       max  \n",
       "Id               1460.0    2189.5    2919.0  \n",
       "MSSubClass         50.0      70.0     190.0  \n",
       "LotFrontage        68.0      80.0     313.0  \n",
       "LotArea          9453.0   11570.0  215245.0  \n",
       "OverallQual         6.0       7.0      10.0  \n",
       "OverallCond         5.0       6.0       9.0  \n",
       "YearBuilt        1973.0    2001.0    2010.0  \n",
       "YearRemodAdd     1993.0    2004.0    2010.0  \n",
       "MasVnrArea          0.0     164.0    1600.0  \n",
       "BsmtFinSF1        368.5     733.0    5644.0  \n",
       "BsmtFinSF2          0.0       0.0    1526.0  \n",
       "BsmtUnfSF         467.0     805.5    2336.0  \n",
       "TotalBsmtSF       989.5    1302.0    6110.0  \n",
       "1stFlrSF         1082.0    1387.5    5095.0  \n",
       "2ndFlrSF            0.0     704.0    2065.0  \n",
       "LowQualFinSF        0.0       0.0    1064.0  \n",
       "GrLivArea        1444.0    1743.5    5642.0  \n",
       "BsmtFullBath        0.0       1.0       3.0  \n",
       "BsmtHalfBath        0.0       0.0       2.0  \n",
       "FullBath            2.0       2.0       4.0  \n",
       "HalfBath            0.0       1.0       2.0  \n",
       "BedroomAbvGr        3.0       3.0       8.0  \n",
       "KitchenAbvGr        1.0       1.0       3.0  \n",
       "TotRmsAbvGrd        6.0       7.0      15.0  \n",
       "Fireplaces          1.0       1.0       4.0  \n",
       "GarageYrBlt      1979.0    2002.0    2207.0  \n",
       "GarageCars          2.0       2.0       5.0  \n",
       "GarageArea        480.0     576.0    1488.0  \n",
       "WoodDeckSF          0.0     168.0    1424.0  \n",
       "OpenPorchSF        26.0      70.0     742.0  \n",
       "EnclosedPorch       0.0       0.0    1012.0  \n",
       "3SsnPorch           0.0       0.0     508.0  \n",
       "ScreenPorch         0.0       0.0     576.0  \n",
       "PoolArea            0.0       0.0     800.0  \n",
       "MiscVal             0.0       0.0   17000.0  \n",
       "MoSold              6.0       8.0      12.0  \n",
       "YrSold           2008.0    2009.0    2010.0  \n",
       "SalePrice      163000.0  214000.0  755000.0  "
      ]
     },
     "execution_count": 1310,
     "metadata": {},
     "output_type": "execute_result"
    }
   ],
   "source": [
    "df.describe().transpose()"
   ]
  },
  {
   "cell_type": "code",
   "execution_count": 1311,
   "id": "045e5f8d",
   "metadata": {},
   "outputs": [
    {
     "name": "stdout",
     "output_type": "stream",
     "text": [
      "<class 'pandas.core.frame.DataFrame'>\n",
      "RangeIndex: 2919 entries, 0 to 2918\n",
      "Data columns (total 81 columns):\n",
      " #   Column         Non-Null Count  Dtype  \n",
      "---  ------         --------------  -----  \n",
      " 0   Id             2919 non-null   int64  \n",
      " 1   MSSubClass     2919 non-null   int64  \n",
      " 2   MSZoning       2915 non-null   object \n",
      " 3   LotFrontage    2433 non-null   float64\n",
      " 4   LotArea        2919 non-null   int64  \n",
      " 5   Street         2919 non-null   object \n",
      " 6   Alley          198 non-null    object \n",
      " 7   LotShape       2919 non-null   object \n",
      " 8   LandContour    2919 non-null   object \n",
      " 9   Utilities      2917 non-null   object \n",
      " 10  LotConfig      2919 non-null   object \n",
      " 11  LandSlope      2919 non-null   object \n",
      " 12  Neighborhood   2919 non-null   object \n",
      " 13  Condition1     2919 non-null   object \n",
      " 14  Condition2     2919 non-null   object \n",
      " 15  BldgType       2919 non-null   object \n",
      " 16  HouseStyle     2919 non-null   object \n",
      " 17  OverallQual    2919 non-null   int64  \n",
      " 18  OverallCond    2919 non-null   int64  \n",
      " 19  YearBuilt      2919 non-null   int64  \n",
      " 20  YearRemodAdd   2919 non-null   int64  \n",
      " 21  RoofStyle      2919 non-null   object \n",
      " 22  RoofMatl       2919 non-null   object \n",
      " 23  Exterior1st    2918 non-null   object \n",
      " 24  Exterior2nd    2918 non-null   object \n",
      " 25  MasVnrType     2895 non-null   object \n",
      " 26  MasVnrArea     2896 non-null   float64\n",
      " 27  ExterQual      2919 non-null   object \n",
      " 28  ExterCond      2919 non-null   object \n",
      " 29  Foundation     2919 non-null   object \n",
      " 30  BsmtQual       2838 non-null   object \n",
      " 31  BsmtCond       2837 non-null   object \n",
      " 32  BsmtExposure   2837 non-null   object \n",
      " 33  BsmtFinType1   2840 non-null   object \n",
      " 34  BsmtFinSF1     2918 non-null   float64\n",
      " 35  BsmtFinType2   2839 non-null   object \n",
      " 36  BsmtFinSF2     2918 non-null   float64\n",
      " 37  BsmtUnfSF      2918 non-null   float64\n",
      " 38  TotalBsmtSF    2918 non-null   float64\n",
      " 39  Heating        2919 non-null   object \n",
      " 40  HeatingQC      2919 non-null   object \n",
      " 41  CentralAir     2919 non-null   object \n",
      " 42  Electrical     2918 non-null   object \n",
      " 43  1stFlrSF       2919 non-null   int64  \n",
      " 44  2ndFlrSF       2919 non-null   int64  \n",
      " 45  LowQualFinSF   2919 non-null   int64  \n",
      " 46  GrLivArea      2919 non-null   int64  \n",
      " 47  BsmtFullBath   2917 non-null   float64\n",
      " 48  BsmtHalfBath   2917 non-null   float64\n",
      " 49  FullBath       2919 non-null   int64  \n",
      " 50  HalfBath       2919 non-null   int64  \n",
      " 51  BedroomAbvGr   2919 non-null   int64  \n",
      " 52  KitchenAbvGr   2919 non-null   int64  \n",
      " 53  KitchenQual    2918 non-null   object \n",
      " 54  TotRmsAbvGrd   2919 non-null   int64  \n",
      " 55  Functional     2917 non-null   object \n",
      " 56  Fireplaces     2919 non-null   int64  \n",
      " 57  FireplaceQu    1499 non-null   object \n",
      " 58  GarageType     2762 non-null   object \n",
      " 59  GarageYrBlt    2760 non-null   float64\n",
      " 60  GarageFinish   2760 non-null   object \n",
      " 61  GarageCars     2918 non-null   float64\n",
      " 62  GarageArea     2918 non-null   float64\n",
      " 63  GarageQual     2760 non-null   object \n",
      " 64  GarageCond     2760 non-null   object \n",
      " 65  PavedDrive     2919 non-null   object \n",
      " 66  WoodDeckSF     2919 non-null   int64  \n",
      " 67  OpenPorchSF    2919 non-null   int64  \n",
      " 68  EnclosedPorch  2919 non-null   int64  \n",
      " 69  3SsnPorch      2919 non-null   int64  \n",
      " 70  ScreenPorch    2919 non-null   int64  \n",
      " 71  PoolArea       2919 non-null   int64  \n",
      " 72  PoolQC         10 non-null     object \n",
      " 73  Fence          571 non-null    object \n",
      " 74  MiscFeature    105 non-null    object \n",
      " 75  MiscVal        2919 non-null   int64  \n",
      " 76  MoSold         2919 non-null   int64  \n",
      " 77  YrSold         2919 non-null   int64  \n",
      " 78  SaleType       2918 non-null   object \n",
      " 79  SaleCondition  2919 non-null   object \n",
      " 80  SalePrice      1460 non-null   float64\n",
      "dtypes: float64(12), int64(26), object(43)\n",
      "memory usage: 1.8+ MB\n"
     ]
    }
   ],
   "source": [
    "df.info()"
   ]
  },
  {
   "cell_type": "code",
   "execution_count": 1312,
   "id": "27e96db3",
   "metadata": {},
   "outputs": [
    {
     "data": {
      "text/plain": [
       "Id                 int64\n",
       "MSSubClass         int64\n",
       "MSZoning          object\n",
       "LotFrontage      float64\n",
       "LotArea            int64\n",
       "                  ...   \n",
       "MoSold             int64\n",
       "YrSold             int64\n",
       "SaleType          object\n",
       "SaleCondition     object\n",
       "SalePrice        float64\n",
       "Length: 81, dtype: object"
      ]
     },
     "execution_count": 1312,
     "metadata": {},
     "output_type": "execute_result"
    }
   ],
   "source": [
    "df.dtypes"
   ]
  },
  {
   "cell_type": "code",
   "execution_count": 1313,
   "id": "b8f5afaf",
   "metadata": {},
   "outputs": [
    {
     "data": {
      "text/plain": [
       "Index(['MSZoning', 'LotFrontage', 'Alley', 'Utilities', 'Exterior1st',\n",
       "       'Exterior2nd', 'MasVnrType', 'MasVnrArea', 'BsmtQual', 'BsmtCond',\n",
       "       'BsmtExposure', 'BsmtFinType1', 'BsmtFinSF1', 'BsmtFinType2',\n",
       "       'BsmtFinSF2', 'BsmtUnfSF', 'TotalBsmtSF', 'Electrical', 'BsmtFullBath',\n",
       "       'BsmtHalfBath', 'KitchenQual', 'Functional', 'FireplaceQu',\n",
       "       'GarageType', 'GarageYrBlt', 'GarageFinish', 'GarageCars', 'GarageArea',\n",
       "       'GarageQual', 'GarageCond', 'PoolQC', 'Fence', 'MiscFeature',\n",
       "       'SaleType', 'SalePrice'],\n",
       "      dtype='object')"
      ]
     },
     "execution_count": 1313,
     "metadata": {},
     "output_type": "execute_result"
    }
   ],
   "source": [
    "df.columns[df.isnull().any()]"
   ]
  },
  {
   "cell_type": "code",
   "execution_count": 1314,
   "id": "9cc77c63",
   "metadata": {},
   "outputs": [
    {
     "data": {
      "text/plain": [
       "PoolQC          2909\n",
       "MiscFeature     2814\n",
       "Alley           2721\n",
       "Fence           2348\n",
       "SalePrice       1459\n",
       "FireplaceQu     1420\n",
       "LotFrontage      486\n",
       "GarageQual       159\n",
       "GarageYrBlt      159\n",
       "GarageFinish     159\n",
       "GarageCond       159\n",
       "GarageType       157\n",
       "BsmtExposure      82\n",
       "BsmtCond          82\n",
       "BsmtQual          81\n",
       "BsmtFinType2      80\n",
       "BsmtFinType1      79\n",
       "MasVnrType        24\n",
       "MasVnrArea        23\n",
       "MSZoning           4\n",
       "Utilities          2\n",
       "Functional         2\n",
       "BsmtFullBath       2\n",
       "BsmtHalfBath       2\n",
       "GarageArea         1\n",
       "BsmtFinSF2         1\n",
       "Exterior1st        1\n",
       "TotalBsmtSF        1\n",
       "GarageCars         1\n",
       "BsmtUnfSF          1\n",
       "Electrical         1\n",
       "BsmtFinSF1         1\n",
       "KitchenQual        1\n",
       "SaleType           1\n",
       "Exterior2nd        1\n",
       "Street             0\n",
       "dtype: int64"
      ]
     },
     "execution_count": 1314,
     "metadata": {},
     "output_type": "execute_result"
    }
   ],
   "source": [
    "df.isnull().sum().sort_values(ascending=False)[:36]"
   ]
  },
  {
   "cell_type": "code",
   "execution_count": 1315,
   "id": "9b90a2a6",
   "metadata": {},
   "outputs": [],
   "source": [
    "df[\"PoolQC\"] = df[\"PoolQC\"].fillna(\"None\")"
   ]
  },
  {
   "cell_type": "code",
   "execution_count": 1316,
   "id": "af89ecfe",
   "metadata": {},
   "outputs": [
    {
     "data": {
      "text/plain": [
       "0       Typ\n",
       "1       Typ\n",
       "2       Typ\n",
       "3       Typ\n",
       "4       Typ\n",
       "       ... \n",
       "2914    Typ\n",
       "2915    Typ\n",
       "2916    Typ\n",
       "2917    Typ\n",
       "2918    Typ\n",
       "Name: Functional, Length: 2919, dtype: object"
      ]
     },
     "execution_count": 1316,
     "metadata": {},
     "output_type": "execute_result"
    }
   ],
   "source": [
    "df[\"Functional\"]"
   ]
  },
  {
   "cell_type": "code",
   "execution_count": 1317,
   "id": "855bc9ce",
   "metadata": {},
   "outputs": [
    {
     "data": {
      "text/plain": [
       "'Typ'"
      ]
     },
     "execution_count": 1317,
     "metadata": {},
     "output_type": "execute_result"
    }
   ],
   "source": [
    "df[\"Functional\"].mode()[0]"
   ]
  },
  {
   "cell_type": "code",
   "execution_count": 1318,
   "id": "f4b2a456",
   "metadata": {},
   "outputs": [
    {
     "data": {
      "text/plain": [
       "0    Typ\n",
       "dtype: object"
      ]
     },
     "execution_count": 1318,
     "metadata": {},
     "output_type": "execute_result"
    }
   ],
   "source": [
    "df[\"Functional\"].mode()"
   ]
  },
  {
   "cell_type": "code",
   "execution_count": 1319,
   "id": "e3dd2b70",
   "metadata": {},
   "outputs": [],
   "source": [
    "df[\"Functional\"] = df[\"Functional\"].fillna(df_train[\"Functional\"].mode()[0])"
   ]
  },
  {
   "cell_type": "code",
   "execution_count": 1320,
   "id": "799e5a15",
   "metadata": {},
   "outputs": [],
   "source": [
    "df[\"LotFrontage\"] = df[\"LotFrontage\"].fillna(df_train[\"LotFrontage\"].mean()) "
   ]
  },
  {
   "cell_type": "code",
   "execution_count": 1321,
   "id": "6f2213e7",
   "metadata": {},
   "outputs": [],
   "source": [
    "df[\"MiscFeature\"] = df[\"MiscFeature\"].fillna(\"None\")"
   ]
  },
  {
   "cell_type": "code",
   "execution_count": 1322,
   "id": "ca7ecddf",
   "metadata": {},
   "outputs": [
    {
     "data": {
      "text/plain": [
       "MnPrv    329\n",
       "GdPrv    118\n",
       "GdWo     112\n",
       "MnWw      12\n",
       "Name: Fence, dtype: int64"
      ]
     },
     "execution_count": 1322,
     "metadata": {},
     "output_type": "execute_result"
    }
   ],
   "source": [
    "df.Fence.value_counts()"
   ]
  },
  {
   "cell_type": "code",
   "execution_count": 1323,
   "id": "ccf729fb",
   "metadata": {},
   "outputs": [],
   "source": [
    "df[\"Fence\"] = df[\"Fence\"].fillna(\"None\")"
   ]
  },
  {
   "cell_type": "code",
   "execution_count": 1324,
   "id": "e777a333",
   "metadata": {},
   "outputs": [],
   "source": [
    "df[\"FireplaceQu\"] = df[\"FireplaceQu\"].fillna(\"None\")"
   ]
  },
  {
   "cell_type": "code",
   "execution_count": 1325,
   "id": "9351ac9f",
   "metadata": {},
   "outputs": [],
   "source": [
    "df[\"GarageCond\"] = df[\"GarageCond\"].fillna(\"None\")"
   ]
  },
  {
   "cell_type": "code",
   "execution_count": 1326,
   "id": "9e6db964",
   "metadata": {},
   "outputs": [],
   "source": [
    "df[\"GarageYrBlt\"] = df[\"GarageYrBlt\"].fillna(\"None\")"
   ]
  },
  {
   "cell_type": "code",
   "execution_count": 1327,
   "id": "42863d71",
   "metadata": {},
   "outputs": [],
   "source": [
    "df[\"GarageFinish\"] = df[\"GarageFinish\"].fillna(\"None\")"
   ]
  },
  {
   "cell_type": "code",
   "execution_count": 1328,
   "id": "5a456a20",
   "metadata": {},
   "outputs": [],
   "source": [
    "df[\"GarageQual\"] = df[\"GarageQual\"].fillna(\"None\")"
   ]
  },
  {
   "cell_type": "code",
   "execution_count": 1329,
   "id": "12c5fe39",
   "metadata": {},
   "outputs": [],
   "source": [
    "df[\"GarageType\"] = df[\"GarageType\"].fillna(\"None\")"
   ]
  },
  {
   "cell_type": "code",
   "execution_count": 1330,
   "id": "decd0d4e",
   "metadata": {},
   "outputs": [],
   "source": [
    "df[\"BsmtExposure\"] = df[\"BsmtExposure\"].fillna(\"None\")"
   ]
  },
  {
   "cell_type": "code",
   "execution_count": 1331,
   "id": "df649367",
   "metadata": {},
   "outputs": [],
   "source": [
    "df[\"BsmtCond\"] = df[\"BsmtCond\"].fillna(\"None\")"
   ]
  },
  {
   "cell_type": "code",
   "execution_count": 1332,
   "id": "ce006b67",
   "metadata": {},
   "outputs": [],
   "source": [
    "df[\"BsmtQual\"] = df[\"BsmtQual\"].fillna(\"None\")"
   ]
  },
  {
   "cell_type": "code",
   "execution_count": 1333,
   "id": "89b88e43",
   "metadata": {},
   "outputs": [],
   "source": [
    "df[\"BsmtFinType2\"] = df[\"BsmtFinType2\"].fillna(\"None\")"
   ]
  },
  {
   "cell_type": "code",
   "execution_count": 1334,
   "id": "0dfc40f6",
   "metadata": {},
   "outputs": [],
   "source": [
    "df[\"BsmtFinType1\"] = df[\"BsmtFinType1\"].fillna(\"None\")"
   ]
  },
  {
   "cell_type": "code",
   "execution_count": 1335,
   "id": "28e22bba",
   "metadata": {},
   "outputs": [],
   "source": [
    "df[\"MasVnrType\"] = df[\"MasVnrType\"].fillna(\"None\")"
   ]
  },
  {
   "cell_type": "code",
   "execution_count": 1336,
   "id": "06f2740f",
   "metadata": {},
   "outputs": [],
   "source": [
    "df[\"MasVnrArea\"] = df[\"MasVnrArea\"].fillna(0.0)"
   ]
  },
  {
   "cell_type": "code",
   "execution_count": 1337,
   "id": "cb2e6c42",
   "metadata": {},
   "outputs": [],
   "source": [
    "df[\"MSZoning\"] = df[\"MSZoning\"].fillna(\"None\")"
   ]
  },
  {
   "cell_type": "code",
   "execution_count": 1338,
   "id": "2f3bb7e9",
   "metadata": {},
   "outputs": [
    {
     "data": {
      "text/plain": [
       "0.0    1705\n",
       "1.0    1172\n",
       "2.0      38\n",
       "3.0       2\n",
       "Name: BsmtFullBath, dtype: int64"
      ]
     },
     "execution_count": 1338,
     "metadata": {},
     "output_type": "execute_result"
    }
   ],
   "source": [
    "df.BsmtFullBath.value_counts()"
   ]
  },
  {
   "cell_type": "code",
   "execution_count": 1339,
   "id": "50da134b",
   "metadata": {},
   "outputs": [],
   "source": [
    "df[\"BsmtFullBath\"] = df[\"BsmtFullBath\"].fillna(0.0)"
   ]
  },
  {
   "cell_type": "code",
   "execution_count": 1340,
   "id": "d8117235",
   "metadata": {},
   "outputs": [
    {
     "data": {
      "text/plain": [
       "0.0    2742\n",
       "1.0     171\n",
       "2.0       4\n",
       "Name: BsmtHalfBath, dtype: int64"
      ]
     },
     "execution_count": 1340,
     "metadata": {},
     "output_type": "execute_result"
    }
   ],
   "source": [
    "df.BsmtHalfBath.value_counts()"
   ]
  },
  {
   "cell_type": "code",
   "execution_count": 1341,
   "id": "04a3bd26",
   "metadata": {},
   "outputs": [],
   "source": [
    "df[\"BsmtHalfBath\"] = df[\"BsmtHalfBath\"].fillna(0.0)"
   ]
  },
  {
   "cell_type": "code",
   "execution_count": 1342,
   "id": "8798be83",
   "metadata": {},
   "outputs": [],
   "source": [
    "df[\"Utilities\"] = df[\"Utilities\"].fillna(\"None\")"
   ]
  },
  {
   "cell_type": "code",
   "execution_count": 1343,
   "id": "09ee1211",
   "metadata": {},
   "outputs": [
    {
     "data": {
      "text/plain": [
       "0.0       241\n",
       "384.0      19\n",
       "728.0      14\n",
       "672.0      13\n",
       "600.0      12\n",
       "         ... \n",
       "1503.0      1\n",
       "445.0       1\n",
       "958.0       1\n",
       "1559.0      1\n",
       "1369.0      1\n",
       "Name: BsmtUnfSF, Length: 1135, dtype: int64"
      ]
     },
     "execution_count": 1343,
     "metadata": {},
     "output_type": "execute_result"
    }
   ],
   "source": [
    "df.BsmtUnfSF.value_counts()"
   ]
  },
  {
   "cell_type": "code",
   "execution_count": 1344,
   "id": "139bf0aa",
   "metadata": {},
   "outputs": [],
   "source": [
    "df[\"BsmtUnfSF\"] = df[\"BsmtUnfSF\"].fillna(0.0)"
   ]
  },
  {
   "cell_type": "code",
   "execution_count": 1345,
   "id": "1d66dd9f",
   "metadata": {},
   "outputs": [
    {
     "data": {
      "text/plain": [
       "0.0      157\n",
       "576.0     97\n",
       "440.0     96\n",
       "240.0     69\n",
       "484.0     68\n",
       "        ... \n",
       "443.0      1\n",
       "424.0      1\n",
       "263.0      1\n",
       "962.0      1\n",
       "803.0      1\n",
       "Name: GarageArea, Length: 603, dtype: int64"
      ]
     },
     "execution_count": 1345,
     "metadata": {},
     "output_type": "execute_result"
    }
   ],
   "source": [
    "df.GarageArea.value_counts()"
   ]
  },
  {
   "cell_type": "code",
   "execution_count": 1346,
   "id": "b331e51a",
   "metadata": {},
   "outputs": [],
   "source": [
    "df[\"GarageArea\"] = df[\"GarageArea\"].fillna(0.0)"
   ]
  },
  {
   "cell_type": "code",
   "execution_count": 1347,
   "id": "e3aaa755",
   "metadata": {},
   "outputs": [
    {
     "data": {
      "text/plain": [
       "2.0    1594\n",
       "1.0     776\n",
       "3.0     374\n",
       "0.0     157\n",
       "4.0      16\n",
       "5.0       1\n",
       "Name: GarageCars, dtype: int64"
      ]
     },
     "execution_count": 1347,
     "metadata": {},
     "output_type": "execute_result"
    }
   ],
   "source": [
    "df.GarageCars.value_counts()"
   ]
  },
  {
   "cell_type": "code",
   "execution_count": 1348,
   "id": "a48de071",
   "metadata": {},
   "outputs": [],
   "source": [
    "df[\"GarageCars\"] = df[\"GarageCars\"].fillna(0.0)"
   ]
  },
  {
   "cell_type": "code",
   "execution_count": 1349,
   "id": "04966676",
   "metadata": {},
   "outputs": [
    {
     "data": {
      "text/plain": [
       "0.0       78\n",
       "864.0     74\n",
       "672.0     29\n",
       "912.0     26\n",
       "1040.0    25\n",
       "          ..\n",
       "1949.0     1\n",
       "1231.0     1\n",
       "1829.0     1\n",
       "1475.0     1\n",
       "1243.0     1\n",
       "Name: TotalBsmtSF, Length: 1058, dtype: int64"
      ]
     },
     "execution_count": 1349,
     "metadata": {},
     "output_type": "execute_result"
    }
   ],
   "source": [
    "df.TotalBsmtSF.value_counts()"
   ]
  },
  {
   "cell_type": "code",
   "execution_count": 1350,
   "id": "882a3a8a",
   "metadata": {},
   "outputs": [],
   "source": [
    "df[\"TotalBsmtSF\"] = df[\"TotalBsmtSF\"].fillna(0.0)"
   ]
  },
  {
   "cell_type": "code",
   "execution_count": 1351,
   "id": "81f6b097",
   "metadata": {},
   "outputs": [
    {
     "data": {
      "text/plain": [
       "VinylSd    1025\n",
       "MetalSd     450\n",
       "HdBoard     442\n",
       "Wd Sdng     411\n",
       "Plywood     221\n",
       "CemntBd     126\n",
       "BrkFace      87\n",
       "WdShing      56\n",
       "AsbShng      44\n",
       "Stucco       43\n",
       "BrkComm       6\n",
       "CBlock        2\n",
       "AsphShn       2\n",
       "Stone         2\n",
       "ImStucc       1\n",
       "Name: Exterior1st, dtype: int64"
      ]
     },
     "execution_count": 1351,
     "metadata": {},
     "output_type": "execute_result"
    }
   ],
   "source": [
    "df.Exterior1st.value_counts()"
   ]
  },
  {
   "cell_type": "code",
   "execution_count": 1352,
   "id": "6f3baf5c",
   "metadata": {},
   "outputs": [],
   "source": [
    "df[\"Exterior1st\"] = df[\"Exterior1st\"].fillna(\"None\")"
   ]
  },
  {
   "cell_type": "code",
   "execution_count": 1353,
   "id": "c3c2c29f",
   "metadata": {},
   "outputs": [
    {
     "data": {
      "text/plain": [
       "0.0      2571\n",
       "294.0       5\n",
       "180.0       5\n",
       "162.0       3\n",
       "539.0       3\n",
       "         ... \n",
       "196.0       1\n",
       "904.0       1\n",
       "456.0       1\n",
       "624.0       1\n",
       "823.0       1\n",
       "Name: BsmtFinSF2, Length: 272, dtype: int64"
      ]
     },
     "execution_count": 1353,
     "metadata": {},
     "output_type": "execute_result"
    }
   ],
   "source": [
    "df.BsmtFinSF2.value_counts()"
   ]
  },
  {
   "cell_type": "code",
   "execution_count": 1354,
   "id": "151b602c",
   "metadata": {},
   "outputs": [],
   "source": [
    "df[\"BsmtFinSF2\"] = df[\"BsmtFinSF2\"].fillna(0.0)"
   ]
  },
  {
   "cell_type": "code",
   "execution_count": 1355,
   "id": "54c5efc4",
   "metadata": {},
   "outputs": [
    {
     "data": {
      "text/plain": [
       "0.0       929\n",
       "24.0       27\n",
       "16.0       14\n",
       "300.0       9\n",
       "288.0       8\n",
       "         ... \n",
       "1022.0      1\n",
       "939.0       1\n",
       "1124.0      1\n",
       "1619.0      1\n",
       "1106.0      1\n",
       "Name: BsmtFinSF1, Length: 991, dtype: int64"
      ]
     },
     "execution_count": 1355,
     "metadata": {},
     "output_type": "execute_result"
    }
   ],
   "source": [
    "df.BsmtFinSF1.value_counts()"
   ]
  },
  {
   "cell_type": "code",
   "execution_count": 1356,
   "id": "26a3aec4",
   "metadata": {},
   "outputs": [],
   "source": [
    "df[\"BsmtFinSF1\"] = df[\"BsmtFinSF1\"].fillna(0.0)"
   ]
  },
  {
   "cell_type": "code",
   "execution_count": 1357,
   "id": "ee6659e3",
   "metadata": {},
   "outputs": [
    {
     "data": {
      "text/plain": [
       "VinylSd    1014\n",
       "MetalSd     447\n",
       "HdBoard     406\n",
       "Wd Sdng     391\n",
       "Plywood     270\n",
       "CmentBd     126\n",
       "Wd Shng      81\n",
       "BrkFace      47\n",
       "Stucco       47\n",
       "AsbShng      38\n",
       "Brk Cmn      22\n",
       "ImStucc      15\n",
       "Stone         6\n",
       "AsphShn       4\n",
       "CBlock        3\n",
       "Other         1\n",
       "Name: Exterior2nd, dtype: int64"
      ]
     },
     "execution_count": 1357,
     "metadata": {},
     "output_type": "execute_result"
    }
   ],
   "source": [
    "df.Exterior2nd.value_counts()"
   ]
  },
  {
   "cell_type": "code",
   "execution_count": 1358,
   "id": "4167f33b",
   "metadata": {},
   "outputs": [],
   "source": [
    "df[\"Exterior2nd\"] = df[\"Exterior2nd\"].fillna(\"Other\")"
   ]
  },
  {
   "cell_type": "code",
   "execution_count": 1359,
   "id": "22e19281",
   "metadata": {},
   "outputs": [
    {
     "data": {
      "text/plain": [
       "WD       2525\n",
       "New       239\n",
       "COD        87\n",
       "ConLD      26\n",
       "CWD        12\n",
       "ConLI       9\n",
       "ConLw       8\n",
       "Oth         7\n",
       "Con         5\n",
       "Name: SaleType, dtype: int64"
      ]
     },
     "execution_count": 1359,
     "metadata": {},
     "output_type": "execute_result"
    }
   ],
   "source": [
    "df.SaleType.value_counts()"
   ]
  },
  {
   "cell_type": "code",
   "execution_count": 1360,
   "id": "f35c3e06",
   "metadata": {},
   "outputs": [],
   "source": [
    "df[\"SaleType\"] = df[\"SaleType\"].fillna(\"Oth\")"
   ]
  },
  {
   "cell_type": "code",
   "execution_count": 1361,
   "id": "4e31389b",
   "metadata": {},
   "outputs": [
    {
     "data": {
      "text/plain": [
       "SBrkr    2671\n",
       "FuseA     188\n",
       "FuseF      50\n",
       "FuseP       8\n",
       "Mix         1\n",
       "Name: Electrical, dtype: int64"
      ]
     },
     "execution_count": 1361,
     "metadata": {},
     "output_type": "execute_result"
    }
   ],
   "source": [
    "df.Electrical.value_counts()"
   ]
  },
  {
   "cell_type": "code",
   "execution_count": 1362,
   "id": "5ce4dac5",
   "metadata": {},
   "outputs": [],
   "source": [
    "df[\"Electrical\"] = df[\"Electrical\"].fillna(\"SBrkr\")"
   ]
  },
  {
   "cell_type": "code",
   "execution_count": 1363,
   "id": "05b525a8",
   "metadata": {},
   "outputs": [
    {
     "data": {
      "text/plain": [
       "TA    1492\n",
       "Gd    1151\n",
       "Ex     205\n",
       "Fa      70\n",
       "Name: KitchenQual, dtype: int64"
      ]
     },
     "execution_count": 1363,
     "metadata": {},
     "output_type": "execute_result"
    }
   ],
   "source": [
    "df.KitchenQual.value_counts()"
   ]
  },
  {
   "cell_type": "code",
   "execution_count": 1364,
   "id": "c0101ba9",
   "metadata": {},
   "outputs": [],
   "source": [
    "df[\"KitchenQual\"] = df[\"KitchenQual\"].fillna(\"TA\")"
   ]
  },
  {
   "cell_type": "code",
   "execution_count": 1365,
   "id": "51f3e5f2",
   "metadata": {},
   "outputs": [
    {
     "data": {
      "text/plain": [
       "Grvl    120\n",
       "Pave     78\n",
       "Name: Alley, dtype: int64"
      ]
     },
     "execution_count": 1365,
     "metadata": {},
     "output_type": "execute_result"
    }
   ],
   "source": [
    "df.Alley.value_counts()"
   ]
  },
  {
   "cell_type": "code",
   "execution_count": 1366,
   "id": "d8a7e7c3",
   "metadata": {},
   "outputs": [],
   "source": [
    "df[\"Alley\"] = df[\"Alley\"].fillna(\"None\")"
   ]
  },
  {
   "cell_type": "code",
   "execution_count": 1367,
   "id": "ad85be0c",
   "metadata": {},
   "outputs": [],
   "source": [
    "diction = {\"None\" : 0, \"Grvl\" : 1, \"Pave\" : 2}"
   ]
  },
  {
   "cell_type": "code",
   "execution_count": 1368,
   "id": "6087dd6a",
   "metadata": {},
   "outputs": [],
   "source": [
    "df['Alley'] = df['Alley'].replace(diction)"
   ]
  },
  {
   "cell_type": "code",
   "execution_count": 1369,
   "id": "33e56e13",
   "metadata": {
    "scrolled": true
   },
   "outputs": [
    {
     "data": {
      "text/plain": [
       "<AxesSubplot:>"
      ]
     },
     "execution_count": 1369,
     "metadata": {},
     "output_type": "execute_result"
    },
    {
     "data": {
      "image/png": "[encoded data removed]",
      "text/plain": [
       "<Figure size 1008x720 with 2 Axes>"
      ]
     },
     "metadata": {
      "needs_background": "light"
     },
     "output_type": "display_data"
    }
   ],
   "source": [
    "corr_matrix = df.corr()\n",
    "plt.subplots(figsize=(14, 10))\n",
    "sns.heatmap(corr_matrix, linewidths=.5, square=True, annot=False, cmap=\"Greens\")"
   ]
  },
  {
   "cell_type": "code",
   "execution_count": 1370,
   "id": "4e347ab4",
   "metadata": {
    "scrolled": true
   },
   "outputs": [
    {
     "data": {
      "text/plain": [
       "<AxesSubplot:xlabel='OverallQual', ylabel='SalePrice'>"
      ]
     },
     "execution_count": 1370,
     "metadata": {},
     "output_type": "execute_result"
    },
    {
     "data": {
      "image/png": "[encoded data removed]",
      "text/plain": [
       "<Figure size 432x288 with 1 Axes>"
      ]
     },
     "metadata": {
      "needs_background": "light"
     },
     "output_type": "display_data"
    }
   ],
   "source": [
    "sns.boxplot(x=df[\"OverallQual\"], y=df[\"SalePrice\"])"
   ]
  },
  {
   "cell_type": "code",
   "execution_count": 1371,
   "id": "e018b387",
   "metadata": {},
   "outputs": [],
   "source": [
    "df = pd.get_dummies(df, columns=df.select_dtypes(include=['object']).copy().columns.tolist())"
   ]
  },
  {
   "cell_type": "code",
   "execution_count": 1372,
   "id": "e5eeb32d",
   "metadata": {},
   "outputs": [
    {
     "name": "stderr",
     "output_type": "stream",
     "text": [
      "C:\\Users\\tcedeniz\\Anaconda3\\lib\\site-packages\\seaborn\\distributions.py:2557: FutureWarning: `distplot` is a deprecated function and will be removed in a future version. Please adapt your code to use either `displot` (a figure-level function with similar flexibility) or `histplot` (an axes-level function for histograms).\n",
      "  warnings.warn(msg, FutureWarning)\n"
     ]
    },
    {
     "data": {
      "text/plain": [
       "<AxesSubplot:xlabel='SalePrice', ylabel='Density'>"
      ]
     },
     "execution_count": 1372,
     "metadata": {},
     "output_type": "execute_result"
    },
    {
     "data": {
      "image/png": "[encoded data removed]",
      "text/plain": [
       "<Figure size 432x288 with 1 Axes>"
      ]
     },
     "metadata": {
      "needs_background": "light"
     },
     "output_type": "display_data"
    }
   ],
   "source": [
    "sns.distplot(df[\"SalePrice\"], bins=10)"
   ]
  },
  {
   "cell_type": "code",
   "execution_count": 1373,
   "id": "8ac60d01",
   "metadata": {},
   "outputs": [
    {
     "data": {
      "text/plain": [
       "1.8828757597682129"
      ]
     },
     "execution_count": 1373,
     "metadata": {},
     "output_type": "execute_result"
    }
   ],
   "source": [
    "df['SalePrice'].skew()"
   ]
  },
  {
   "cell_type": "code",
   "execution_count": 1374,
   "id": "210519c1",
   "metadata": {},
   "outputs": [],
   "source": [
    "df[\"SalePrice\"] = np.log(df[\"SalePrice\"])"
   ]
  },
  {
   "cell_type": "code",
   "execution_count": 1375,
   "id": "4150220d",
   "metadata": {},
   "outputs": [
    {
     "data": {
      "text/plain": [
       "0.12133506220520401"
      ]
     },
     "execution_count": 1375,
     "metadata": {},
     "output_type": "execute_result"
    }
   ],
   "source": [
    "df['SalePrice'].skew()"
   ]
  },
  {
   "cell_type": "code",
   "execution_count": 1376,
   "id": "67677c5f",
   "metadata": {
    "scrolled": true
   },
   "outputs": [
    {
     "name": "stderr",
     "output_type": "stream",
     "text": [
      "C:\\Users\\tcedeniz\\Anaconda3\\lib\\site-packages\\seaborn\\distributions.py:2557: FutureWarning: `distplot` is a deprecated function and will be removed in a future version. Please adapt your code to use either `displot` (a figure-level function with similar flexibility) or `histplot` (an axes-level function for histograms).\n",
      "  warnings.warn(msg, FutureWarning)\n"
     ]
    },
    {
     "data": {
      "text/plain": [
       "<AxesSubplot:xlabel='SalePrice', ylabel='Density'>"
      ]
     },
     "execution_count": 1376,
     "metadata": {},
     "output_type": "execute_result"
    },
    {
     "data": {
      "image/png": "[encoded data removed]",
      "text/plain": [
       "<Figure size 432x288 with 1 Axes>"
      ]
     },
     "metadata": {
      "needs_background": "light"
     },
     "output_type": "display_data"
    }
   ],
   "source": [
    "sns.distplot(df[\"SalePrice\"], bins=10)"
   ]
  },
  {
   "cell_type": "markdown",
   "id": "4e6c5592",
   "metadata": {},
   "source": [
    "scaler = StandardScaler()\n",
    "df = scaler.fit(df)"
   ]
  },
  {
   "cell_type": "code",
   "execution_count": 1377,
   "id": "93ca315c",
   "metadata": {},
   "outputs": [],
   "source": [
    "df_train = df[df[\"SalePrice\"].notnull()].copy()\n",
    "df_test  = df[df[\"SalePrice\"].isnull()].copy()"
   ]
  },
  {
   "cell_type": "code",
   "execution_count": 1378,
   "id": "3577b0e4",
   "metadata": {},
   "outputs": [],
   "source": [
    "Id = df_test.pop(\"Id\")"
   ]
  },
  {
   "cell_type": "code",
   "execution_count": 1379,
   "id": "fee70fa3",
   "metadata": {},
   "outputs": [],
   "source": [
    "df_train = df_train.drop([\"Id\"], axis=1)"
   ]
  },
  {
   "cell_type": "code",
   "execution_count": 1380,
   "id": "f2a1ca81",
   "metadata": {},
   "outputs": [
    {
     "data": {
      "text/plain": [
       "(1460, 407)"
      ]
     },
     "execution_count": 1380,
     "metadata": {},
     "output_type": "execute_result"
    }
   ],
   "source": [
    "df_train.shape"
   ]
  },
  {
   "cell_type": "code",
   "execution_count": 1381,
   "id": "f0f8aa41",
   "metadata": {},
   "outputs": [
    {
     "data": {
      "text/plain": [
       "(1459, 407)"
      ]
     },
     "execution_count": 1381,
     "metadata": {},
     "output_type": "execute_result"
    }
   ],
   "source": [
    "df_test.shape"
   ]
  },
  {
   "cell_type": "code",
   "execution_count": 1382,
   "id": "1070e097",
   "metadata": {},
   "outputs": [
    {
     "data": {
      "text/html": [
       "<div>\n",
       "<style scoped>\n",
       "    .dataframe tbody tr th:only-of-type {\n",
       "        vertical-align: middle;\n",
       "    }\n",
       "\n",
       "    .dataframe tbody tr th {\n",
       "        vertical-align: top;\n",
       "    }\n",
       "\n",
       "    .dataframe thead th {\n",
       "        text-align: right;\n",
       "    }\n",
       "</style>\n",
       "<table border=\"1\" class=\"dataframe\">\n",
       "  <thead>\n",
       "    <tr style=\"text-align: right;\">\n",
       "      <th></th>\n",
       "      <th>MSSubClass</th>\n",
       "      <th>LotFrontage</th>\n",
       "      <th>LotArea</th>\n",
       "      <th>Alley</th>\n",
       "      <th>OverallQual</th>\n",
       "      <th>OverallCond</th>\n",
       "      <th>YearBuilt</th>\n",
       "      <th>YearRemodAdd</th>\n",
       "      <th>MasVnrArea</th>\n",
       "      <th>BsmtFinSF1</th>\n",
       "      <th>...</th>\n",
       "      <th>SaleType_ConLw</th>\n",
       "      <th>SaleType_New</th>\n",
       "      <th>SaleType_Oth</th>\n",
       "      <th>SaleType_WD</th>\n",
       "      <th>SaleCondition_Abnorml</th>\n",
       "      <th>SaleCondition_AdjLand</th>\n",
       "      <th>SaleCondition_Alloca</th>\n",
       "      <th>SaleCondition_Family</th>\n",
       "      <th>SaleCondition_Normal</th>\n",
       "      <th>SaleCondition_Partial</th>\n",
       "    </tr>\n",
       "  </thead>\n",
       "  <tbody>\n",
       "    <tr>\n",
       "      <th>count</th>\n",
       "      <td>1460.000000</td>\n",
       "      <td>1460.000000</td>\n",
       "      <td>1460.000000</td>\n",
       "      <td>1460.000000</td>\n",
       "      <td>1460.000000</td>\n",
       "      <td>1460.000000</td>\n",
       "      <td>1460.000000</td>\n",
       "      <td>1460.000000</td>\n",
       "      <td>1460.000000</td>\n",
       "      <td>1460.000000</td>\n",
       "      <td>...</td>\n",
       "      <td>1460.000000</td>\n",
       "      <td>1460.000000</td>\n",
       "      <td>1460.000000</td>\n",
       "      <td>1460.000000</td>\n",
       "      <td>1460.000000</td>\n",
       "      <td>1460.000000</td>\n",
       "      <td>1460.000000</td>\n",
       "      <td>1460.000000</td>\n",
       "      <td>1460.000000</td>\n",
       "      <td>1460.000000</td>\n",
       "    </tr>\n",
       "    <tr>\n",
       "      <th>mean</th>\n",
       "      <td>56.897260</td>\n",
       "      <td>70.049958</td>\n",
       "      <td>10516.828082</td>\n",
       "      <td>0.090411</td>\n",
       "      <td>6.099315</td>\n",
       "      <td>5.575342</td>\n",
       "      <td>1971.267808</td>\n",
       "      <td>1984.865753</td>\n",
       "      <td>103.117123</td>\n",
       "      <td>443.639726</td>\n",
       "      <td>...</td>\n",
       "      <td>0.003425</td>\n",
       "      <td>0.083562</td>\n",
       "      <td>0.002055</td>\n",
       "      <td>0.867808</td>\n",
       "      <td>0.069178</td>\n",
       "      <td>0.002740</td>\n",
       "      <td>0.008219</td>\n",
       "      <td>0.013699</td>\n",
       "      <td>0.820548</td>\n",
       "      <td>0.085616</td>\n",
       "    </tr>\n",
       "    <tr>\n",
       "      <th>std</th>\n",
       "      <td>42.300571</td>\n",
       "      <td>22.024023</td>\n",
       "      <td>9981.264932</td>\n",
       "      <td>0.372151</td>\n",
       "      <td>1.382997</td>\n",
       "      <td>1.112799</td>\n",
       "      <td>30.202904</td>\n",
       "      <td>20.645407</td>\n",
       "      <td>180.731373</td>\n",
       "      <td>456.098091</td>\n",
       "      <td>...</td>\n",
       "      <td>0.058440</td>\n",
       "      <td>0.276824</td>\n",
       "      <td>0.045299</td>\n",
       "      <td>0.338815</td>\n",
       "      <td>0.253844</td>\n",
       "      <td>0.052289</td>\n",
       "      <td>0.090317</td>\n",
       "      <td>0.116277</td>\n",
       "      <td>0.383862</td>\n",
       "      <td>0.279893</td>\n",
       "    </tr>\n",
       "    <tr>\n",
       "      <th>min</th>\n",
       "      <td>20.000000</td>\n",
       "      <td>21.000000</td>\n",
       "      <td>1300.000000</td>\n",
       "      <td>0.000000</td>\n",
       "      <td>1.000000</td>\n",
       "      <td>1.000000</td>\n",
       "      <td>1872.000000</td>\n",
       "      <td>1950.000000</td>\n",
       "      <td>0.000000</td>\n",
       "      <td>0.000000</td>\n",
       "      <td>...</td>\n",
       "      <td>0.000000</td>\n",
       "      <td>0.000000</td>\n",
       "      <td>0.000000</td>\n",
       "      <td>0.000000</td>\n",
       "      <td>0.000000</td>\n",
       "      <td>0.000000</td>\n",
       "      <td>0.000000</td>\n",
       "      <td>0.000000</td>\n",
       "      <td>0.000000</td>\n",
       "      <td>0.000000</td>\n",
       "    </tr>\n",
       "    <tr>\n",
       "      <th>25%</th>\n",
       "      <td>20.000000</td>\n",
       "      <td>60.000000</td>\n",
       "      <td>7553.500000</td>\n",
       "      <td>0.000000</td>\n",
       "      <td>5.000000</td>\n",
       "      <td>5.000000</td>\n",
       "      <td>1954.000000</td>\n",
       "      <td>1967.000000</td>\n",
       "      <td>0.000000</td>\n",
       "      <td>0.000000</td>\n",
       "      <td>...</td>\n",
       "      <td>0.000000</td>\n",
       "      <td>0.000000</td>\n",
       "      <td>0.000000</td>\n",
       "      <td>1.000000</td>\n",
       "      <td>0.000000</td>\n",
       "      <td>0.000000</td>\n",
       "      <td>0.000000</td>\n",
       "      <td>0.000000</td>\n",
       "      <td>1.000000</td>\n",
       "      <td>0.000000</td>\n",
       "    </tr>\n",
       "    <tr>\n",
       "      <th>50%</th>\n",
       "      <td>50.000000</td>\n",
       "      <td>70.049958</td>\n",
       "      <td>9478.500000</td>\n",
       "      <td>0.000000</td>\n",
       "      <td>6.000000</td>\n",
       "      <td>5.000000</td>\n",
       "      <td>1973.000000</td>\n",
       "      <td>1994.000000</td>\n",
       "      <td>0.000000</td>\n",
       "      <td>383.500000</td>\n",
       "      <td>...</td>\n",
       "      <td>0.000000</td>\n",
       "      <td>0.000000</td>\n",
       "      <td>0.000000</td>\n",
       "      <td>1.000000</td>\n",
       "      <td>0.000000</td>\n",
       "      <td>0.000000</td>\n",
       "      <td>0.000000</td>\n",
       "      <td>0.000000</td>\n",
       "      <td>1.000000</td>\n",
       "      <td>0.000000</td>\n",
       "    </tr>\n",
       "    <tr>\n",
       "      <th>75%</th>\n",
       "      <td>70.000000</td>\n",
       "      <td>79.000000</td>\n",
       "      <td>11601.500000</td>\n",
       "      <td>0.000000</td>\n",
       "      <td>7.000000</td>\n",
       "      <td>6.000000</td>\n",
       "      <td>2000.000000</td>\n",
       "      <td>2004.000000</td>\n",
       "      <td>164.250000</td>\n",
       "      <td>712.250000</td>\n",
       "      <td>...</td>\n",
       "      <td>0.000000</td>\n",
       "      <td>0.000000</td>\n",
       "      <td>0.000000</td>\n",
       "      <td>1.000000</td>\n",
       "      <td>0.000000</td>\n",
       "      <td>0.000000</td>\n",
       "      <td>0.000000</td>\n",
       "      <td>0.000000</td>\n",
       "      <td>1.000000</td>\n",
       "      <td>0.000000</td>\n",
       "    </tr>\n",
       "    <tr>\n",
       "      <th>max</th>\n",
       "      <td>190.000000</td>\n",
       "      <td>313.000000</td>\n",
       "      <td>215245.000000</td>\n",
       "      <td>2.000000</td>\n",
       "      <td>10.000000</td>\n",
       "      <td>9.000000</td>\n",
       "      <td>2010.000000</td>\n",
       "      <td>2010.000000</td>\n",
       "      <td>1600.000000</td>\n",
       "      <td>5644.000000</td>\n",
       "      <td>...</td>\n",
       "      <td>1.000000</td>\n",
       "      <td>1.000000</td>\n",
       "      <td>1.000000</td>\n",
       "      <td>1.000000</td>\n",
       "      <td>1.000000</td>\n",
       "      <td>1.000000</td>\n",
       "      <td>1.000000</td>\n",
       "      <td>1.000000</td>\n",
       "      <td>1.000000</td>\n",
       "      <td>1.000000</td>\n",
       "    </tr>\n",
       "  </tbody>\n",
       "</table>\n",
       "<p>8 rows × 407 columns</p>\n",
       "</div>"
      ],
      "text/plain": [
       "        MSSubClass  LotFrontage        LotArea        Alley  OverallQual  \\\n",
       "count  1460.000000  1460.000000    1460.000000  1460.000000  1460.000000   \n",
       "mean     56.897260    70.049958   10516.828082     0.090411     6.099315   \n",
       "std      42.300571    22.024023    9981.264932     0.372151     1.382997   \n",
       "min      20.000000    21.000000    1300.000000     0.000000     1.000000   \n",
       "25%      20.000000    60.000000    7553.500000     0.000000     5.000000   \n",
       "50%      50.000000    70.049958    9478.500000     0.000000     6.000000   \n",
       "75%      70.000000    79.000000   11601.500000     0.000000     7.000000   \n",
       "max     190.000000   313.000000  215245.000000     2.000000    10.000000   \n",
       "\n",
       "       OverallCond    YearBuilt  YearRemodAdd   MasVnrArea   BsmtFinSF1  ...  \\\n",
       "count  1460.000000  1460.000000   1460.000000  1460.000000  1460.000000  ...   \n",
       "mean      5.575342  1971.267808   1984.865753   103.117123   443.639726  ...   \n",
       "std       1.112799    30.202904     20.645407   180.731373   456.098091  ...   \n",
       "min       1.000000  1872.000000   1950.000000     0.000000     0.000000  ...   \n",
       "25%       5.000000  1954.000000   1967.000000     0.000000     0.000000  ...   \n",
       "50%       5.000000  1973.000000   1994.000000     0.000000   383.500000  ...   \n",
       "75%       6.000000  2000.000000   2004.000000   164.250000   712.250000  ...   \n",
       "max       9.000000  2010.000000   2010.000000  1600.000000  5644.000000  ...   \n",
       "\n",
       "       SaleType_ConLw  SaleType_New  SaleType_Oth  SaleType_WD  \\\n",
       "count     1460.000000   1460.000000   1460.000000  1460.000000   \n",
       "mean         0.003425      0.083562      0.002055     0.867808   \n",
       "std          0.058440      0.276824      0.045299     0.338815   \n",
       "min          0.000000      0.000000      0.000000     0.000000   \n",
       "25%          0.000000      0.000000      0.000000     1.000000   \n",
       "50%          0.000000      0.000000      0.000000     1.000000   \n",
       "75%          0.000000      0.000000      0.000000     1.000000   \n",
       "max          1.000000      1.000000      1.000000     1.000000   \n",
       "\n",
       "       SaleCondition_Abnorml  SaleCondition_AdjLand  SaleCondition_Alloca  \\\n",
       "count            1460.000000            1460.000000           1460.000000   \n",
       "mean                0.069178               0.002740              0.008219   \n",
       "std                 0.253844               0.052289              0.090317   \n",
       "min                 0.000000               0.000000              0.000000   \n",
       "25%                 0.000000               0.000000              0.000000   \n",
       "50%                 0.000000               0.000000              0.000000   \n",
       "75%                 0.000000               0.000000              0.000000   \n",
       "max                 1.000000               1.000000              1.000000   \n",
       "\n",
       "       SaleCondition_Family  SaleCondition_Normal  SaleCondition_Partial  \n",
       "count           1460.000000           1460.000000            1460.000000  \n",
       "mean               0.013699              0.820548               0.085616  \n",
       "std                0.116277              0.383862               0.279893  \n",
       "min                0.000000              0.000000               0.000000  \n",
       "25%                0.000000              1.000000               0.000000  \n",
       "50%                0.000000              1.000000               0.000000  \n",
       "75%                0.000000              1.000000               0.000000  \n",
       "max                1.000000              1.000000               1.000000  \n",
       "\n",
       "[8 rows x 407 columns]"
      ]
     },
     "execution_count": 1382,
     "metadata": {},
     "output_type": "execute_result"
    }
   ],
   "source": [
    "df_train.describe()"
   ]
  },
  {
   "cell_type": "code",
   "execution_count": 1383,
   "id": "67cfa6f3",
   "metadata": {},
   "outputs": [
    {
     "data": {
      "text/html": [
       "<div>\n",
       "<style scoped>\n",
       "    .dataframe tbody tr th:only-of-type {\n",
       "        vertical-align: middle;\n",
       "    }\n",
       "\n",
       "    .dataframe tbody tr th {\n",
       "        vertical-align: top;\n",
       "    }\n",
       "\n",
       "    .dataframe thead th {\n",
       "        text-align: right;\n",
       "    }\n",
       "</style>\n",
       "<table border=\"1\" class=\"dataframe\">\n",
       "  <thead>\n",
       "    <tr style=\"text-align: right;\">\n",
       "      <th></th>\n",
       "      <th>MSSubClass</th>\n",
       "      <th>LotFrontage</th>\n",
       "      <th>LotArea</th>\n",
       "      <th>Alley</th>\n",
       "      <th>OverallQual</th>\n",
       "      <th>OverallCond</th>\n",
       "      <th>YearBuilt</th>\n",
       "      <th>YearRemodAdd</th>\n",
       "      <th>MasVnrArea</th>\n",
       "      <th>BsmtFinSF1</th>\n",
       "      <th>...</th>\n",
       "      <th>SaleType_ConLw</th>\n",
       "      <th>SaleType_New</th>\n",
       "      <th>SaleType_Oth</th>\n",
       "      <th>SaleType_WD</th>\n",
       "      <th>SaleCondition_Abnorml</th>\n",
       "      <th>SaleCondition_AdjLand</th>\n",
       "      <th>SaleCondition_Alloca</th>\n",
       "      <th>SaleCondition_Family</th>\n",
       "      <th>SaleCondition_Normal</th>\n",
       "      <th>SaleCondition_Partial</th>\n",
       "    </tr>\n",
       "  </thead>\n",
       "  <tbody>\n",
       "    <tr>\n",
       "      <th>count</th>\n",
       "      <td>1459.000000</td>\n",
       "      <td>1459.000000</td>\n",
       "      <td>1459.000000</td>\n",
       "      <td>1459.000000</td>\n",
       "      <td>1459.000000</td>\n",
       "      <td>1459.000000</td>\n",
       "      <td>1459.000000</td>\n",
       "      <td>1459.000000</td>\n",
       "      <td>1459.000000</td>\n",
       "      <td>1459.000000</td>\n",
       "      <td>...</td>\n",
       "      <td>1459.000000</td>\n",
       "      <td>1459.000000</td>\n",
       "      <td>1459.000000</td>\n",
       "      <td>1459.000000</td>\n",
       "      <td>1459.000000</td>\n",
       "      <td>1459.000000</td>\n",
       "      <td>1459.000000</td>\n",
       "      <td>1459.000000</td>\n",
       "      <td>1459.000000</td>\n",
       "      <td>1459.000000</td>\n",
       "    </tr>\n",
       "    <tr>\n",
       "      <th>mean</th>\n",
       "      <td>57.378341</td>\n",
       "      <td>68.809007</td>\n",
       "      <td>9819.161069</td>\n",
       "      <td>0.098698</td>\n",
       "      <td>6.078821</td>\n",
       "      <td>5.553804</td>\n",
       "      <td>1971.357779</td>\n",
       "      <td>1983.662783</td>\n",
       "      <td>99.673749</td>\n",
       "      <td>438.902673</td>\n",
       "      <td>...</td>\n",
       "      <td>0.002056</td>\n",
       "      <td>0.080192</td>\n",
       "      <td>0.003427</td>\n",
       "      <td>0.862234</td>\n",
       "      <td>0.061001</td>\n",
       "      <td>0.005483</td>\n",
       "      <td>0.008225</td>\n",
       "      <td>0.017820</td>\n",
       "      <td>0.825223</td>\n",
       "      <td>0.082248</td>\n",
       "    </tr>\n",
       "    <tr>\n",
       "      <th>std</th>\n",
       "      <td>42.746880</td>\n",
       "      <td>20.568131</td>\n",
       "      <td>4955.517327</td>\n",
       "      <td>0.373861</td>\n",
       "      <td>1.436812</td>\n",
       "      <td>1.113740</td>\n",
       "      <td>30.390071</td>\n",
       "      <td>21.130467</td>\n",
       "      <td>177.001792</td>\n",
       "      <td>455.257119</td>\n",
       "      <td>...</td>\n",
       "      <td>0.045314</td>\n",
       "      <td>0.271683</td>\n",
       "      <td>0.058460</td>\n",
       "      <td>0.344772</td>\n",
       "      <td>0.239414</td>\n",
       "      <td>0.073871</td>\n",
       "      <td>0.090348</td>\n",
       "      <td>0.132344</td>\n",
       "      <td>0.379907</td>\n",
       "      <td>0.274837</td>\n",
       "    </tr>\n",
       "    <tr>\n",
       "      <th>min</th>\n",
       "      <td>20.000000</td>\n",
       "      <td>21.000000</td>\n",
       "      <td>1470.000000</td>\n",
       "      <td>0.000000</td>\n",
       "      <td>1.000000</td>\n",
       "      <td>1.000000</td>\n",
       "      <td>1879.000000</td>\n",
       "      <td>1950.000000</td>\n",
       "      <td>0.000000</td>\n",
       "      <td>0.000000</td>\n",
       "      <td>...</td>\n",
       "      <td>0.000000</td>\n",
       "      <td>0.000000</td>\n",
       "      <td>0.000000</td>\n",
       "      <td>0.000000</td>\n",
       "      <td>0.000000</td>\n",
       "      <td>0.000000</td>\n",
       "      <td>0.000000</td>\n",
       "      <td>0.000000</td>\n",
       "      <td>0.000000</td>\n",
       "      <td>0.000000</td>\n",
       "    </tr>\n",
       "    <tr>\n",
       "      <th>25%</th>\n",
       "      <td>20.000000</td>\n",
       "      <td>60.000000</td>\n",
       "      <td>7391.000000</td>\n",
       "      <td>0.000000</td>\n",
       "      <td>5.000000</td>\n",
       "      <td>5.000000</td>\n",
       "      <td>1953.000000</td>\n",
       "      <td>1963.000000</td>\n",
       "      <td>0.000000</td>\n",
       "      <td>0.000000</td>\n",
       "      <td>...</td>\n",
       "      <td>0.000000</td>\n",
       "      <td>0.000000</td>\n",
       "      <td>0.000000</td>\n",
       "      <td>1.000000</td>\n",
       "      <td>0.000000</td>\n",
       "      <td>0.000000</td>\n",
       "      <td>0.000000</td>\n",
       "      <td>0.000000</td>\n",
       "      <td>1.000000</td>\n",
       "      <td>0.000000</td>\n",
       "    </tr>\n",
       "    <tr>\n",
       "      <th>50%</th>\n",
       "      <td>50.000000</td>\n",
       "      <td>70.049958</td>\n",
       "      <td>9399.000000</td>\n",
       "      <td>0.000000</td>\n",
       "      <td>6.000000</td>\n",
       "      <td>5.000000</td>\n",
       "      <td>1973.000000</td>\n",
       "      <td>1992.000000</td>\n",
       "      <td>0.000000</td>\n",
       "      <td>350.000000</td>\n",
       "      <td>...</td>\n",
       "      <td>0.000000</td>\n",
       "      <td>0.000000</td>\n",
       "      <td>0.000000</td>\n",
       "      <td>1.000000</td>\n",
       "      <td>0.000000</td>\n",
       "      <td>0.000000</td>\n",
       "      <td>0.000000</td>\n",
       "      <td>0.000000</td>\n",
       "      <td>1.000000</td>\n",
       "      <td>0.000000</td>\n",
       "    </tr>\n",
       "    <tr>\n",
       "      <th>75%</th>\n",
       "      <td>70.000000</td>\n",
       "      <td>78.000000</td>\n",
       "      <td>11517.500000</td>\n",
       "      <td>0.000000</td>\n",
       "      <td>7.000000</td>\n",
       "      <td>6.000000</td>\n",
       "      <td>2001.000000</td>\n",
       "      <td>2004.000000</td>\n",
       "      <td>162.000000</td>\n",
       "      <td>752.000000</td>\n",
       "      <td>...</td>\n",
       "      <td>0.000000</td>\n",
       "      <td>0.000000</td>\n",
       "      <td>0.000000</td>\n",
       "      <td>1.000000</td>\n",
       "      <td>0.000000</td>\n",
       "      <td>0.000000</td>\n",
       "      <td>0.000000</td>\n",
       "      <td>0.000000</td>\n",
       "      <td>1.000000</td>\n",
       "      <td>0.000000</td>\n",
       "    </tr>\n",
       "    <tr>\n",
       "      <th>max</th>\n",
       "      <td>190.000000</td>\n",
       "      <td>200.000000</td>\n",
       "      <td>56600.000000</td>\n",
       "      <td>2.000000</td>\n",
       "      <td>10.000000</td>\n",
       "      <td>9.000000</td>\n",
       "      <td>2010.000000</td>\n",
       "      <td>2010.000000</td>\n",
       "      <td>1290.000000</td>\n",
       "      <td>4010.000000</td>\n",
       "      <td>...</td>\n",
       "      <td>1.000000</td>\n",
       "      <td>1.000000</td>\n",
       "      <td>1.000000</td>\n",
       "      <td>1.000000</td>\n",
       "      <td>1.000000</td>\n",
       "      <td>1.000000</td>\n",
       "      <td>1.000000</td>\n",
       "      <td>1.000000</td>\n",
       "      <td>1.000000</td>\n",
       "      <td>1.000000</td>\n",
       "    </tr>\n",
       "  </tbody>\n",
       "</table>\n",
       "<p>8 rows × 407 columns</p>\n",
       "</div>"
      ],
      "text/plain": [
       "        MSSubClass  LotFrontage       LotArea        Alley  OverallQual  \\\n",
       "count  1459.000000  1459.000000   1459.000000  1459.000000  1459.000000   \n",
       "mean     57.378341    68.809007   9819.161069     0.098698     6.078821   \n",
       "std      42.746880    20.568131   4955.517327     0.373861     1.436812   \n",
       "min      20.000000    21.000000   1470.000000     0.000000     1.000000   \n",
       "25%      20.000000    60.000000   7391.000000     0.000000     5.000000   \n",
       "50%      50.000000    70.049958   9399.000000     0.000000     6.000000   \n",
       "75%      70.000000    78.000000  11517.500000     0.000000     7.000000   \n",
       "max     190.000000   200.000000  56600.000000     2.000000    10.000000   \n",
       "\n",
       "       OverallCond    YearBuilt  YearRemodAdd   MasVnrArea   BsmtFinSF1  ...  \\\n",
       "count  1459.000000  1459.000000   1459.000000  1459.000000  1459.000000  ...   \n",
       "mean      5.553804  1971.357779   1983.662783    99.673749   438.902673  ...   \n",
       "std       1.113740    30.390071     21.130467   177.001792   455.257119  ...   \n",
       "min       1.000000  1879.000000   1950.000000     0.000000     0.000000  ...   \n",
       "25%       5.000000  1953.000000   1963.000000     0.000000     0.000000  ...   \n",
       "50%       5.000000  1973.000000   1992.000000     0.000000   350.000000  ...   \n",
       "75%       6.000000  2001.000000   2004.000000   162.000000   752.000000  ...   \n",
       "max       9.000000  2010.000000   2010.000000  1290.000000  4010.000000  ...   \n",
       "\n",
       "       SaleType_ConLw  SaleType_New  SaleType_Oth  SaleType_WD  \\\n",
       "count     1459.000000   1459.000000   1459.000000  1459.000000   \n",
       "mean         0.002056      0.080192      0.003427     0.862234   \n",
       "std          0.045314      0.271683      0.058460     0.344772   \n",
       "min          0.000000      0.000000      0.000000     0.000000   \n",
       "25%          0.000000      0.000000      0.000000     1.000000   \n",
       "50%          0.000000      0.000000      0.000000     1.000000   \n",
       "75%          0.000000      0.000000      0.000000     1.000000   \n",
       "max          1.000000      1.000000      1.000000     1.000000   \n",
       "\n",
       "       SaleCondition_Abnorml  SaleCondition_AdjLand  SaleCondition_Alloca  \\\n",
       "count            1459.000000            1459.000000           1459.000000   \n",
       "mean                0.061001               0.005483              0.008225   \n",
       "std                 0.239414               0.073871              0.090348   \n",
       "min                 0.000000               0.000000              0.000000   \n",
       "25%                 0.000000               0.000000              0.000000   \n",
       "50%                 0.000000               0.000000              0.000000   \n",
       "75%                 0.000000               0.000000              0.000000   \n",
       "max                 1.000000               1.000000              1.000000   \n",
       "\n",
       "       SaleCondition_Family  SaleCondition_Normal  SaleCondition_Partial  \n",
       "count           1459.000000           1459.000000            1459.000000  \n",
       "mean               0.017820              0.825223               0.082248  \n",
       "std                0.132344              0.379907               0.274837  \n",
       "min                0.000000              0.000000               0.000000  \n",
       "25%                0.000000              1.000000               0.000000  \n",
       "50%                0.000000              1.000000               0.000000  \n",
       "75%                0.000000              1.000000               0.000000  \n",
       "max                1.000000              1.000000               1.000000  \n",
       "\n",
       "[8 rows x 407 columns]"
      ]
     },
     "execution_count": 1383,
     "metadata": {},
     "output_type": "execute_result"
    }
   ],
   "source": [
    "df_test.describe()"
   ]
  },
  {
   "cell_type": "code",
   "execution_count": 1384,
   "id": "06774caf",
   "metadata": {},
   "outputs": [],
   "source": [
    "y = df_train.pop(\"SalePrice\")"
   ]
  },
  {
   "cell_type": "code",
   "execution_count": 1385,
   "id": "485d1cbd",
   "metadata": {},
   "outputs": [
    {
     "data": {
      "text/plain": [
       "0       12.247694\n",
       "1       12.109011\n",
       "2       12.317167\n",
       "3       11.849398\n",
       "4       12.429216\n",
       "          ...    \n",
       "1455    12.072541\n",
       "1456    12.254863\n",
       "1457    12.493130\n",
       "1458    11.864462\n",
       "1459    11.901583\n",
       "Name: SalePrice, Length: 1460, dtype: float64"
      ]
     },
     "execution_count": 1385,
     "metadata": {},
     "output_type": "execute_result"
    }
   ],
   "source": [
    "y"
   ]
  },
  {
   "cell_type": "code",
   "execution_count": 1386,
   "id": "f6d21aa7",
   "metadata": {},
   "outputs": [],
   "source": [
    "from sklearn.pipeline import Pipeline\n",
    "from sklearn.model_selection import GridSearchCV\n",
    "\n",
    "#Import the Regression Models you choose \n",
    "from sklearn.linear_model import LinearRegression\n",
    "from sklearn.linear_model import BayesianRidge\n",
    "from sklearn.linear_model import LogisticRegression\n",
    "from sklearn import linear_model\n",
    "\n",
    "\n",
    "\n",
    "#At first, create the Pipeline with any estimator\n",
    "pipe = Pipeline([('estimator', BayesianRidge())])\n",
    "\n",
    "\n",
    "#Create a parameters dictionary for each estimator\n",
    "params_grid = [{\n",
    "                'estimator':[BayesianRidge()],\n",
    "                 \"estimator__n_iter\":[300, 400, 500] #Bayesian Ridge \"n_iter\" diye bir parametreye sahip, onu deniyoruz\n",
    "                },\n",
    "                {\n",
    "                'estimator': [LinearRegression()],\n",
    "                \"estimator__normalize\":[False, True] #Linear Regression \"normalize\" diye bir parametreye sahip, onu dene\n",
    "                },    \n",
    "                {\n",
    "                \"estimator\": [linear_model.ARDRegression()]\n",
    "                }\n",
    "    \n",
    "               # {'estimator':[Any estimator],\n",
    "               #  'estimator__ParameterNAME':[Value you would like to try]}  \n",
    "           ]\n",
    "grid = GridSearchCV(pipe, params_grid)"
   ]
  },
  {
   "cell_type": "code",
   "execution_count": 1387,
   "id": "904bc834",
   "metadata": {},
   "outputs": [
    {
     "data": {
      "text/plain": [
       "GridSearchCV(estimator=Pipeline(steps=[('estimator', BayesianRidge())]),\n",
       "             param_grid=[{'estimator': [BayesianRidge()],\n",
       "                          'estimator__n_iter': [300, 400, 500]},\n",
       "                         {'estimator': [LinearRegression()],\n",
       "                          'estimator__normalize': [False, True]},\n",
       "                         {'estimator': [ARDRegression()]}])"
      ]
     },
     "execution_count": 1387,
     "metadata": {},
     "output_type": "execute_result"
    }
   ],
   "source": [
    "grid.fit(df_train, y)  #grid search fits for every estimator with given parameters "
   ]
  },
  {
   "cell_type": "code",
   "execution_count": 1388,
   "id": "54a4f794",
   "metadata": {},
   "outputs": [
    {
     "data": {
      "text/plain": [
       "{'estimator': BayesianRidge(), 'estimator__n_iter': 300}"
      ]
     },
     "execution_count": 1388,
     "metadata": {},
     "output_type": "execute_result"
    }
   ],
   "source": [
    "grid.best_params_       #It shows the best parameters "
   ]
  },
  {
   "cell_type": "code",
   "execution_count": 1389,
   "id": "3e8bd4b2",
   "metadata": {},
   "outputs": [
    {
     "data": {
      "text/plain": [
       "{'mean_fit_time': array([0.39546137, 0.49425802, 0.4102088 , 0.19938474, 0.19070163,\n",
       "        1.6502677 ]),\n",
       " 'std_fit_time': array([0.01620151, 0.08061784, 0.02976019, 0.02071578, 0.00485806,\n",
       "        0.31651371]),\n",
       " 'mean_score_time': array([0.00972772, 0.01064744, 0.01041999, 0.00541086, 0.00518241,\n",
       "        0.00622296]),\n",
       " 'std_score_time': array([3.28252606e-03, 2.09214625e-03, 1.65723898e-03, 2.56426044e-04,\n",
       "        2.28254163e-04, 9.12226997e-05]),\n",
       " 'param_estimator': masked_array(data=[BayesianRidge(), BayesianRidge(), BayesianRidge(),\n",
       "                    LinearRegression(), LinearRegression(),\n",
       "                    ARDRegression()],\n",
       "              mask=[False, False, False, False, False, False],\n",
       "        fill_value='?',\n",
       "             dtype=object),\n",
       " 'param_estimator__n_iter': masked_array(data=[300, 400, 500, --, --, --],\n",
       "              mask=[False, False, False,  True,  True,  True],\n",
       "        fill_value='?',\n",
       "             dtype=object),\n",
       " 'param_estimator__normalize': masked_array(data=[--, --, --, False, True, --],\n",
       "              mask=[ True,  True,  True, False, False,  True],\n",
       "        fill_value='?',\n",
       "             dtype=object),\n",
       " 'params': [{'estimator': BayesianRidge(), 'estimator__n_iter': 300},\n",
       "  {'estimator': BayesianRidge(), 'estimator__n_iter': 400},\n",
       "  {'estimator': BayesianRidge(), 'estimator__n_iter': 500},\n",
       "  {'estimator': LinearRegression(), 'estimator__normalize': False},\n",
       "  {'estimator': LinearRegression(), 'estimator__normalize': True},\n",
       "  {'estimator': ARDRegression()}],\n",
       " 'split0_test_score': array([ 9.08817264e-01,  9.08817264e-01,  9.08817264e-01,  8.61931093e-01,\n",
       "        -1.55675565e+26,  8.69476622e-01]),\n",
       " 'split1_test_score': array([ 8.78715986e-01,  8.78715986e-01,  8.78715986e-01, -7.45229153e+07,\n",
       "        -3.41684969e+24,  8.50620041e-01]),\n",
       " 'split2_test_score': array([ 8.98993924e-01,  8.98993924e-01,  8.98993924e-01, -8.41825852e+07,\n",
       "        -4.41854562e+24,  8.23405486e-01]),\n",
       " 'split3_test_score': array([ 9.03162617e-01,  9.03162617e-01,  9.03162617e-01, -1.92929190e+09,\n",
       "        -2.18584040e+24,  8.64620302e-01]),\n",
       " 'split4_test_score': array([ 7.72891799e-01,  7.72891799e-01,  7.72891799e-01, -1.29448905e+06,\n",
       "        -4.48083636e+23,  8.16334599e-01]),\n",
       " 'mean_test_score': array([ 8.72516318e-01,  8.72516318e-01,  8.72516318e-01, -4.17858377e+08,\n",
       "        -3.32289770e+25,  8.44891410e-01]),\n",
       " 'std_test_score': array([5.08360083e-02, 5.08360083e-02, 5.08360083e-02, 7.56542286e+08,\n",
       "        6.12376260e+25, 2.14644611e-02]),\n",
       " 'rank_test_score': array([1, 1, 1, 5, 6, 4])}"
      ]
     },
     "execution_count": 1389,
     "metadata": {},
     "output_type": "execute_result"
    }
   ],
   "source": [
    "grid.cv_results_        #Results for every parameters"
   ]
  },
  {
   "cell_type": "code",
   "execution_count": 1390,
   "id": "f0e59700",
   "metadata": {},
   "outputs": [
    {
     "name": "stdout",
     "output_type": "stream",
     "text": [
      "[ 8.72516318e-01  8.72516318e-01  8.72516318e-01 -4.17858377e+08\n",
      " -3.32289770e+25  8.44891410e-01]\n"
     ]
    }
   ],
   "source": [
    "allscores = grid.cv_results_['mean_test_score']        #It shows only the Mean test score\n",
    "print(allscores)    "
   ]
  },
  {
   "cell_type": "code",
   "execution_count": 1391,
   "id": "2c4c5d52",
   "metadata": {},
   "outputs": [
    {
     "data": {
      "text/plain": [
       "0.8725163181149217"
      ]
     },
     "execution_count": 1391,
     "metadata": {},
     "output_type": "execute_result"
    }
   ],
   "source": [
    "grid.best_score_     #The best test score"
   ]
  },
  {
   "cell_type": "code",
   "execution_count": 1392,
   "id": "2a43d9ce",
   "metadata": {},
   "outputs": [
    {
     "data": {
      "text/plain": [
       "Pipeline(steps=[('estimator', BayesianRidge())])"
      ]
     },
     "execution_count": 1392,
     "metadata": {},
     "output_type": "execute_result"
    }
   ],
   "source": [
    "grid.best_estimator_                 #Returns the best estimator"
   ]
  },
  {
   "cell_type": "code",
   "execution_count": 1393,
   "id": "6e7fc81e",
   "metadata": {},
   "outputs": [],
   "source": [
    "from sklearn.pipeline import Pipeline\n",
    "from sklearn.model_selection import GridSearchCV\n",
    "from sklearn.preprocessing import StandardScaler\n",
    "\n",
    "#Import the Regression Models you choose \n",
    "from sklearn.linear_model import LinearRegression\n",
    "from sklearn.linear_model import BayesianRidge\n",
    "from sklearn.linear_model import LogisticRegression\n",
    "from sklearn import linear_model\n",
    "\n",
    "\n",
    "\n",
    "#Pipeline flows that order: Scale the data with standardscaler then use the given estimator\n",
    "pipe = Pipeline([(\"SCALER\", StandardScaler()), \n",
    "                 ('estimator', BayesianRidge())])\n",
    "\n",
    "\n",
    "#Create a parameters dictionary for each estimator\n",
    "params_grid = [{\n",
    "                'estimator':[BayesianRidge()],\n",
    "                 \"estimator__n_iter\":[300, 400, 500] # n_iter is the Maximum number of iterations\n",
    "                },\n",
    "                {\n",
    "                'estimator': [LinearRegression()],\n",
    "                \"estimator__normalize\":[False, True] # Normalize or not? \n",
    "                },    \n",
    "                {\n",
    "                \"estimator\": [linear_model.ARDRegression()]\n",
    "                }\n",
    "    \n",
    "               # {'estimator':[Any estimator],\n",
    "               #  'estimator__ParameterNAME':[Value you would like to try]}  \n",
    "              ]\n",
    "\n",
    "grid = GridSearchCV(pipe, params_grid)"
   ]
  },
  {
   "cell_type": "code",
   "execution_count": 1394,
   "id": "71358e52",
   "metadata": {},
   "outputs": [
    {
     "data": {
      "text/plain": [
       "GridSearchCV(estimator=Pipeline(steps=[('SCALER', StandardScaler()),\n",
       "                                       ('estimator', BayesianRidge())]),\n",
       "             param_grid=[{'estimator': [BayesianRidge()],\n",
       "                          'estimator__n_iter': [300, 400, 500]},\n",
       "                         {'estimator': [LinearRegression()],\n",
       "                          'estimator__normalize': [False, True]},\n",
       "                         {'estimator': [ARDRegression()]}])"
      ]
     },
     "execution_count": 1394,
     "metadata": {},
     "output_type": "execute_result"
    }
   ],
   "source": [
    "grid.fit(df_train, y)  #grid search fits for every estimator with given parameters "
   ]
  },
  {
   "cell_type": "code",
   "execution_count": 1395,
   "id": "c57a1cee",
   "metadata": {},
   "outputs": [
    {
     "data": {
      "text/plain": [
       "{'estimator': BayesianRidge(), 'estimator__n_iter': 300}"
      ]
     },
     "execution_count": 1395,
     "metadata": {},
     "output_type": "execute_result"
    }
   ],
   "source": [
    "grid.best_params_       #It shows the best parameters "
   ]
  },
  {
   "cell_type": "code",
   "execution_count": 1396,
   "id": "e5ce889b",
   "metadata": {},
   "outputs": [
    {
     "data": {
      "text/plain": [
       "Pipeline(steps=[('SCALER', StandardScaler()), ('estimator', BayesianRidge())])"
      ]
     },
     "execution_count": 1396,
     "metadata": {},
     "output_type": "execute_result"
    }
   ],
   "source": [
    "grid.best_estimator_                 #Returns the best estimator"
   ]
  },
  {
   "cell_type": "code",
   "execution_count": 1397,
   "id": "abd1835c",
   "metadata": {},
   "outputs": [],
   "source": [
    "clf = grid.best_estimator_"
   ]
  },
  {
   "cell_type": "code",
   "execution_count": 1398,
   "id": "47258608",
   "metadata": {},
   "outputs": [],
   "source": [
    "df_test  = df_test.drop(\"SalePrice\", axis=1).reset_index(drop=True)"
   ]
  },
  {
   "cell_type": "code",
   "execution_count": 1399,
   "id": "67711015",
   "metadata": {},
   "outputs": [],
   "source": [
    "y_pred = clf.predict(df_test)"
   ]
  },
  {
   "cell_type": "code",
   "execution_count": 1400,
   "id": "10290b75",
   "metadata": {},
   "outputs": [],
   "source": [
    "my_prediction = np.expm1(y_pred)"
   ]
  },
  {
   "cell_type": "code",
   "execution_count": 1401,
   "id": "dcc8b326",
   "metadata": {},
   "outputs": [
    {
     "data": {
      "text/html": [
       "<div>\n",
       "<style scoped>\n",
       "    .dataframe tbody tr th:only-of-type {\n",
       "        vertical-align: middle;\n",
       "    }\n",
       "\n",
       "    .dataframe tbody tr th {\n",
       "        vertical-align: top;\n",
       "    }\n",
       "\n",
       "    .dataframe thead th {\n",
       "        text-align: right;\n",
       "    }\n",
       "</style>\n",
       "<table border=\"1\" class=\"dataframe\">\n",
       "  <thead>\n",
       "    <tr style=\"text-align: right;\">\n",
       "      <th></th>\n",
       "      <th>Id</th>\n",
       "      <th>SalePrice</th>\n",
       "    </tr>\n",
       "  </thead>\n",
       "  <tbody>\n",
       "    <tr>\n",
       "      <th>1460</th>\n",
       "      <td>1461</td>\n",
       "      <td>120031.913161</td>\n",
       "    </tr>\n",
       "    <tr>\n",
       "      <th>1461</th>\n",
       "      <td>1462</td>\n",
       "      <td>148482.536119</td>\n",
       "    </tr>\n",
       "    <tr>\n",
       "      <th>1462</th>\n",
       "      <td>1463</td>\n",
       "      <td>183026.060197</td>\n",
       "    </tr>\n",
       "    <tr>\n",
       "      <th>1463</th>\n",
       "      <td>1464</td>\n",
       "      <td>200896.374065</td>\n",
       "    </tr>\n",
       "    <tr>\n",
       "      <th>1464</th>\n",
       "      <td>1465</td>\n",
       "      <td>186319.100979</td>\n",
       "    </tr>\n",
       "  </tbody>\n",
       "</table>\n",
       "</div>"
      ],
      "text/plain": [
       "        Id      SalePrice\n",
       "1460  1461  120031.913161\n",
       "1461  1462  148482.536119\n",
       "1462  1463  183026.060197\n",
       "1463  1464  200896.374065\n",
       "1464  1465  186319.100979"
      ]
     },
     "execution_count": 1401,
     "metadata": {},
     "output_type": "execute_result"
    }
   ],
   "source": [
    "submission = pd.DataFrame()\n",
    "submission[\"Id\"] = Id\n",
    "submission[\"SalePrice\"] = my_prediction\n",
    "submission.head()"
   ]
  },
  {
   "cell_type": "code",
   "execution_count": 1402,
   "id": "368e2bea",
   "metadata": {},
   "outputs": [],
   "source": [
    "submission.to_csv(r\"C:\\Kaggle\\house-prices-advanced-regression-techniques\\Submission.csv\", index=False)"
   ]
  }
 ],
 "metadata": {
  "kernelspec": {
   "display_name": "Python 3",
   "language": "python",
   "name": "python3"
  },
  "language_info": {
   "codemirror_mode": {
    "name": "ipython",
    "version": 3
   },
   "file_extension": ".py",
   "mimetype": "text/x-python",
   "name": "python",
   "nbconvert_exporter": "python",
   "pygments_lexer": "ipython3",
   "version": "3.8.8"
  }
 },
 "nbformat": 4,
 "nbformat_minor": 5
}
